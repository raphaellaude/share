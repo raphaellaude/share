{
 "cells": [
  {
   "cell_type": "markdown",
   "metadata": {},
   "source": [
    "Authored by Raphael Laude. Work for WXY Studio. April 2019. Edited for GeoNYC Meetup lightning talk.\n",
    "\n",
    "#### Disclaimer\n",
    "- I am only a user of geopandas / the geospatial python stack\n",
    "- I do not contribute to the packages / know every in and out of the packages\n",
    "- This is just one use case! The geospatial python environment is rich and you should explore further :)\n",
    "\n",
    "#### Me\n",
    "- 23yo urban planner at WXY Studio\n",
    "- Minimal formal coding training (i.e. you can do this too even if you are not a tech bro!)\n",
    "- Advocate of mobility alternatives to the personal auto\n",
    "- SF native seeing how long I can last out here\n",
   ]
  },
  {
   "cell_type": "code",
   "execution_count": null,
   "metadata": {},
   "outputs": [],
   "source": [
    "import pandas as pd\n",
    "import geopandas as gpd\n",
    "import numpy as np\n",
    "#from os.path import join\n",
    "from fiona.crs import from_epsg\n",
    "import matplotlib.pyplot as plt"
   ]
  },
  {
   "cell_type": "markdown",
   "metadata": {},
   "source": [
    "# Load and Prep Data"
   ]
  },
  {
   "cell_type": "markdown",
   "metadata": {},
   "source": [
    "### Community Districts\n",
    "\n",
    "NYC has 59 Community Districts, large geographic areas represented by an appointed Community Board. You can learn more [here](https://communityprofiles.planning.nyc.gov/) and [here](https://en.wikipedia.org/wiki/Community_boards_of_New_York_City). Their power is purely advisory. However, depending on the elected administration, Community Boards can wield significant political clout. Engaging with and understanding the different priorities / perspectives of the Community Boards is essential to urban planning in NYC."
   ]
  },
  {
   "cell_type": "code",
   "execution_count": null,
   "metadata": {},
   "outputs": [],
   "source": [
    "cbs= gpd.read_file(r'data\\geographic\\nycd.shp')"
   ]
  },
  {
   "cell_type": "code",
   "execution_count": null,
   "metadata": {
    "scrolled": true
   },
   "outputs": [],
   "source": [
    "cbs.crs"
   ]
  },
  {
   "cell_type": "code",
   "execution_count": null,
   "metadata": {},
   "outputs": [],
   "source": [
    "cbs.head(1)"
   ]
  },
  {
   "cell_type": "code",
   "execution_count": null,
   "metadata": {
    "scrolled": true
   },
   "outputs": [],
   "source": [
    "cbs.info()"
   ]
  },
  {
   "cell_type": "markdown",
   "metadata": {},
   "source": [
    "### ACS 5-Year: Table S2502"
   ]
  },
  {
   "cell_type": "markdown",
   "metadata": {},
   "source": [
    "#### Load and Prep Census Data"
   ]
  },
  {
   "cell_type": "code",
   "execution_count": null,
   "metadata": {},
   "outputs": [],
   "source": [
    "# Retrieved from table metadata\n",
    "key_cols= ['Id2',\n",
    "           'Occupied housing units; Estimate; Occupied housing units',\n",
    "           'Owner-occupied housing units; Estimate; Occupied housing units',\n",
    "           'Renter-occupied housing units; Estimate; Occupied housing units',\n",
    "           'Occupied housing units; Estimate; RACE AND HISPANIC OR LATINO ORIGIN OF HOUSEHOLDER - One race -- - Black or African American',\n",
    "           'Owner-occupied housing units; Estimate; RACE AND HISPANIC OR LATINO ORIGIN OF HOUSEHOLDER - One race -- - Black or African American',\n",
    "           'Renter-occupied housing units; Estimate; RACE AND HISPANIC OR LATINO ORIGIN OF HOUSEHOLDER - One race -- - Black or African American'\n",
    "          ]"
   ]
  },
  {
   "cell_type": "code",
   "execution_count": null,
   "metadata": {},
   "outputs": [],
   "source": [
    "new_cols= ['GEOID', 't_units', 'o_units', 'r_units', 'black_tu', 'black_ou', 'black_ru']"
   ]
  },
  {
   "cell_type": "code",
   "execution_count": null,
   "metadata": {},
   "outputs": [],
   "source": [
    "# Census tract data for ACS 5-Year table S2502\n",
    "df= \\\n",
    "pd.read_csv(r'data\\census\\ACS_17_5YR_S2502_with_ann.csv', skiprows=1, usecols=key_cols, dtype={'Id2':str})\\\n",
    "    .rename(columns=dict(zip(key_cols, new_cols)))"
   ]
  },
  {
   "cell_type": "code",
   "execution_count": null,
   "metadata": {},
   "outputs": [],
   "source": [
    "df.info()"
   ]
  },
  {
   "cell_type": "code",
   "execution_count": null,
   "metadata": {},
   "outputs": [],
   "source": [
    "df.head(1)"
   ]
  },
  {
   "cell_type": "code",
   "execution_count": null,
   "metadata": {},
   "outputs": [],
   "source": [
    "df.describe()"
   ]
  },
  {
   "cell_type": "markdown",
   "metadata": {},
   "source": [
    "#### Join to State Census Tracts"
   ]
  },
  {
   "cell_type": "code",
   "execution_count": null,
   "metadata": {},
   "outputs": [],
   "source": [
    "# Census tract geometries for New York State\n",
    "tracts= gpd.read_file(r'data\\geographic\\cb_2017_36_tract_500k.shp')"
   ]
  },
  {
   "cell_type": "code",
   "execution_count": null,
   "metadata": {},
   "outputs": [],
   "source": [
    "tracts.head(1)"
   ]
  },
  {
   "cell_type": "code",
   "execution_count": null,
   "metadata": {},
   "outputs": [],
   "source": [
    "tracts.info()"
   ]
  },
  {
   "cell_type": "code",
   "execution_count": null,
   "metadata": {},
   "outputs": [],
   "source": [
    "# Check if inner join matches nearly all tracts\n",
    "pd.merge(tracts, df, on='GEOID').shape"
   ]
  },
  {
   "cell_type": "code",
   "execution_count": null,
   "metadata": {},
   "outputs": [],
   "source": [
    "# This is the join\n",
    "units= pd.merge(tracts, df, on='GEOID').copy()"
   ]
  },
  {
   "cell_type": "code",
   "execution_count": null,
   "metadata": {},
   "outputs": [],
   "source": [
    "units.head(1)"
   ]
  },
  {
   "cell_type": "code",
   "execution_count": null,
   "metadata": {},
   "outputs": [],
   "source": [
    "units.crs"
   ]
  },
  {
   "cell_type": "code",
   "execution_count": null,
   "metadata": {},
   "outputs": [],
   "source": [
    "# Reproject for visualization\n",
    "units= units.to_crs(epsg=2263)"
   ]
  },
  {
   "cell_type": "markdown",
   "metadata": {},
   "source": [
    "# Community Board Estimates"
   ]
  },
  {
   "cell_type": "code",
   "execution_count": null,
   "metadata": {},
   "outputs": [],
   "source": [
    "units.columns"
   ]
  },
  {
   "cell_type": "code",
   "execution_count": null,
   "metadata": {},
   "outputs": [],
   "source": [
    "units= units[np.append(new_cols, 'geometry')].copy()"
   ]
  },
  {
   "cell_type": "code",
   "execution_count": null,
   "metadata": {},
   "outputs": [],
   "source": [
    "units_c= units.copy()"
   ]
  },
  {
   "cell_type": "code",
   "execution_count": null,
   "metadata": {},
   "outputs": [],
   "source": [
    "# Change geometry to census tract centroid\n",
    "units_c['geometry']= units_c.centroid"
   ]
  },
  {
   "cell_type": "code",
   "execution_count": null,
   "metadata": {},
   "outputs": [],
   "source": [
    "cbs.index= cbs['BoroCD']"
   ]
  },
  {
   "cell_type": "code",
   "execution_count": null,
   "metadata": {},
   "outputs": [],
   "source": [
    "jamaica= cbs.at[412, 'geometry']"
   ]
  },
  {
   "cell_type": "code",
   "execution_count": null,
   "metadata": {},
   "outputs": [],
   "source": [
    "jamaica"
   ]
  },
  {
   "cell_type": "code",
   "execution_count": null,
   "metadata": {},
   "outputs": [],
   "source": [
    "bushwick= cbs.at[303, 'geometry']"
   ]
  },
  {
   "cell_type": "code",
   "execution_count": null,
   "metadata": {},
   "outputs": [],
   "source": [
    "bushwick"
   ]
  },
  {
   "cell_type": "markdown",
   "metadata": {},
   "source": [
    "#### Clip and visually check QC results"
   ]
  },
  {
   "cell_type": "code",
   "execution_count": null,
   "metadata": {},
   "outputs": [],
   "source": [
    "# Calculate black ownership: Black-owned units over total units\n",
    "units['black_ptuo']= units['black_ou']/units['t_units']"
   ]
  },
  {
   "cell_type": "code",
   "execution_count": null,
   "metadata": {},
   "outputs": [],
   "source": [
    "units[units_c.within(jamaica)].head() # <--- look at mask! this is where the clip is happening"
   ]
  },
  {
   "cell_type": "code",
   "execution_count": null,
   "metadata": {},
   "outputs": [],
   "source": [
    "fig, ax= plt.subplots(figsize=(8,8))\n",
    "\n",
    "# Axes of units and units_c are aligned\n",
    "units[units_c.within(jamaica)].fillna(0)\\\n",
    "    .plot(ax=ax, column='black_ptuo', cmap='BuGn')\n",
    "\n",
    "# Fetch CB QN12 boundary\n",
    "cbs[cbs['BoroCD']==412]\\\n",
    "    .plot(ax=ax, edgecolor='k', linewidth=2, facecolor='None')\n",
    "\n",
    "plt.axis('off')\n",
    "plt.show();"
   ]
  },
  {
   "cell_type": "code",
   "execution_count": null,
   "metadata": {},
   "outputs": [],
   "source": [
    "fig, ax= plt.subplots(figsize=(8,8))\n",
    "\n",
    "units[units_c.within(bushwick)]\\\n",
    "    .plot(ax=ax, column='black_ptuo', cmap='BuGn')\n",
    "\n",
    "cbs[cbs['BoroCD']==303]\\\n",
    "    .plot(ax=ax, edgecolor='k', linewidth=2, facecolor='None')\n",
    "\n",
    "plt.axis('off')\n",
    "plt.show();"
   ]
  },
  {
   "cell_type": "code",
   "execution_count": null,
   "metadata": {},
   "outputs": [],
   "source": [
    "summary= \\\n",
    "pd.DataFrame([units[new_cols[1:]].sum(),\n",
    "              units[units_c.within(bushwick)][new_cols[1:]].sum(),\n",
    "              units[units_c.within(jamaica)][new_cols[1:]].sum()], index=['NYS', 'BK03', 'QN12'])"
   ]
  },
  {
   "cell_type": "code",
   "execution_count": null,
   "metadata": {},
   "outputs": [],
   "source": [
    "summary"
   ]
  },
  {
   "cell_type": "code",
   "execution_count": null,
   "metadata": {},
   "outputs": [],
   "source": [
    "# if you wanted to export...\n",
    "#summary.to_excel(join(path_acs, 'Black_Ownership_Summary_BK03_QN12.xlsx'))"
   ]
  },
  {
   "cell_type": "markdown",
   "metadata": {},
   "source": [
    "#### fun plots!"
   ]
  },
  {
   "cell_type": "code",
   "execution_count": null,
   "metadata": {},
   "outputs": [],
   "source": [
    "units.fillna(0).plot(column='black_ptuo', cmap='BuGn', figsize=(20,20))\n",
    "plt.axis('off')\n",
    "plt.show();"
   ]
  },
  {
   "cell_type": "markdown",
   "metadata": {},
   "source": [
    "[Get New York City borough (i.e. county) FIPS codes.](https://library.columbia.edu/locations/dssc/data/nycounty_fips.html)"
   ]
  },
  {
   "cell_type": "code",
   "execution_count": null,
   "metadata": {},
   "outputs": [],
   "source": [
    "nyc_county_fips= ['005', '047', '061', '081', '085']"
   ]
  },
  {
   "cell_type": "code",
   "execution_count": null,
   "metadata": {},
   "outputs": [],
   "source": [
    "nyc_mask= units['GEOID'].str.slice(2,5).isin(nyc_county_fips)"
   ]
  },
  {
   "cell_type": "code",
   "execution_count": null,
   "metadata": {},
   "outputs": [],
   "source": [
    "fig, axes= plt.subplots(ncols=3, figsize=(15,15))\n",
    "\n",
    "# Use mask here!\n",
    "units[nyc_mask]\\\n",
    "    .plot(ax=axes[0], edgecolor='white', linewidth=.2, facecolor='k')\n",
    "axes[0].axis('off')\n",
    "\n",
    "cbs\\\n",
    "    .plot(ax=axes[1], edgecolor='white', linewidth=.2, facecolor='k')\n",
    "axes[1].axis('off')\n",
    "\n",
    "# Overlay used to clip tract geometries to waterline: CB geometry has water\n",
    "gpd.overlay(units[nyc_mask], cbs).fillna(0)\\\n",
    "    .plot(ax=axes[2], edgecolor='white', linewidth=.2, facecolor='k')\n",
    "axes[2].axis('off')\n",
    "\n",
    "plt.show();"
   ]
  },
  {
   "cell_type": "code",
   "execution_count": null,
   "metadata": {},
   "outputs": [],
   "source": [
    "fig, ax= plt.subplots(figsize=(20,20))\n",
    "\n",
    "gpd.overlay(units[nyc_mask], cbs).fillna(0)\\\n",
    "    .plot(ax=ax, column='black_ptuo', cmap='BuGn')\n",
    "\n",
    "cbs[cbs['PUMA'].isna()]\\\n",
    "    .plot(ax=ax, facecolor='#EAEAEA')\n",
    "\n",
    "cbs\\\n",
    "    .plot(ax=ax, edgecolor='k', linewidth=.5, facecolor='None')\n",
    "\n",
    "plt.axis('off')\n",
    "plt.show();"
   ]
  },
  {
   "cell_type": "code",
   "execution_count": null,
   "metadata": {},
   "outputs": [],
   "source": [
    "fig, ax= plt.subplots(figsize=(12,12))\n",
    "\n",
    "gpd.overlay(units[units['GEOID'].str.slice(2,5)=='081'], cbs).fillna(0)\\\n",
    "    .plot(ax=ax, column='black_ptuo', cmap='BuGn')\n",
    "\n",
    "cbs[(cbs['PUMA'].isna())&\n",
    "    (cbs['BoroCD'].astype(str).str.slice(0,1)=='4')]\\\n",
    "    .plot(ax=ax, facecolor='#EAEAEA')\n",
    "\n",
    "cbs[cbs['BoroCD'].astype(str).str.slice(0,1)=='4']\\\n",
    "    .plot(ax=ax, edgecolor='k', linewidth=.5, facecolor='None')\n",
    "\n",
    "plt.axis('off')\n",
    "plt.show();"
   ]
  },
  {
   "cell_type": "code",
   "execution_count": null,
   "metadata": {},
   "outputs": [],
   "source": [
    "units[units['GEOID'].str.slice(2,5).isin(np.append(nyc_county_fips, ['119', '059', '103']))].fillna(0)\\\n",
    "    .plot(column='black_ptuo', cmap='BuGn', figsize=(20,20))\n",
    "plt.axis('off')\n",
    "plt.show();"
   ]
  },
  {
   "cell_type": "markdown",
   "metadata": {},
   "source": [
    "### Full spatial join"
   ]
  },
  {
   "cell_type": "code",
   "execution_count": null,
   "metadata": {},
   "outputs": [],
   "source": [
    "cb_stats= \\\n",
    "gpd.sjoin(units_c, cbs)\\\n",
    "    .groupby('BoroCD')\\\n",
    "    .agg(dict(zip(new_cols[1:], ['sum' for i in new_cols[1:]])))\\\n",
    "    .reset_index()"
   ]
  },
  {
   "cell_type": "code",
   "execution_count": null,
   "metadata": {},
   "outputs": [],
   "source": [
    "cb_stats.head()"
   ]
  },
  {
   "cell_type": "code",
   "execution_count": null,
   "metadata": {},
   "outputs": [],
   "source": [
    "cb_stats.shape"
   ]
  },
  {
   "cell_type": "code",
   "execution_count": null,
   "metadata": {},
   "outputs": [],
   "source": [
    "cbs.shape"
   ]
  },
  {
   "cell_type": "code",
   "execution_count": null,
   "metadata": {},
   "outputs": [],
   "source": [
    "cbs.reset_index(drop=True, inplace=True)"
   ]
  },
  {
   "cell_type": "code",
   "execution_count": null,
   "metadata": {},
   "outputs": [],
   "source": [
    "cbs= pd.merge(cbs, cb_stats, on='BoroCD')"
   ]
  },
  {
   "cell_type": "code",
   "execution_count": null,
   "metadata": {},
   "outputs": [],
   "source": [
    "# (re)calculate black ownership: Black-owned units over total units (oops!)\n",
    "cbs['black_ptuo']= cbs['black_ou']/cbs['t_units']"
   ]
  },
  {
   "cell_type": "code",
   "execution_count": null,
   "metadata": {},
   "outputs": [],
   "source": [
    "fig, ax= plt.subplots(figsize=(20,20))\n",
    "\n",
    "cbs.fillna(0)\\\n",
    "    .plot(ax=ax, column='black_ptuo', cmap='BuGn')\n",
    "\n",
    "cbs[cbs['PUMA'].isna()]\\\n",
    "    .plot(ax=ax, facecolor='#EAEAEA')\n",
    "\n",
    "cbs\\\n",
    "    .plot(ax=ax, edgecolor='k', linewidth=.5, facecolor='None')\n",
    "\n",
    "plt.axis('off')\n",
    "plt.show();"
   ]
  },
  {
   "cell_type": "code",
   "execution_count": null,
   "metadata": {},
   "outputs": [],
   "source": [
    "cbs[cbs['PUMA'].notna()].sort_values('black_ptuo', ascending=False).head()"
   ]
  }
 ],
 "metadata": {
  "kernelspec": {
   "display_name": "Python 3",
   "language": "python",
   "name": "python3"
  },
  "language_info": {
   "codemirror_mode": {
    "name": "ipython",
    "version": 3
   },
   "file_extension": ".py",
   "mimetype": "text/x-python",
   "name": "python",
   "nbconvert_exporter": "python",
   "pygments_lexer": "ipython3",
   "version": "3.7.3"
  }
 },
 "nbformat": 4,
 "nbformat_minor": 2
}
