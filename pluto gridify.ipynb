{
 "cells": [
  {
   "cell_type": "code",
   "execution_count": 124,
   "metadata": {},
   "outputs": [],
   "source": [
    "import geopandas as gpd\n",
    "import pandas as pd\n",
    "import numpy as np\n",
    "import fiona.crs as crs\n",
    "import os\n",
    "from shapely.geometry import Polygon, Point\n",
    "import matplotlib.pyplot as plt\n",
    "import geoplot"
   ]
  },
  {
   "cell_type": "code",
   "execution_count": 165,
   "metadata": {},
   "outputs": [],
   "source": [
    "path_base= r'/Users/raphaellaude/Documents/Projects/misc learning/qgis learning'"
   ]
  },
  {
   "cell_type": "code",
   "execution_count": 126,
   "metadata": {},
   "outputs": [],
   "source": [
    "grid= gpd.read_file(os.path.join(path_base, 'grid_190204.shp'))"
   ]
  },
  {
   "cell_type": "code",
   "execution_count": 129,
   "metadata": {},
   "outputs": [],
   "source": [
    "grid= grid.to_crs(crs.from_epsg(2263))"
   ]
  },
  {
   "cell_type": "code",
   "execution_count": 130,
   "metadata": {},
   "outputs": [],
   "source": [
    "pluto= gpd.read_file(os.path.join(path_base, 'nyc_mappluto_18v2_shp_nowater//MapPLUTO.shp'))"
   ]
  },
  {
   "cell_type": "code",
   "execution_count": 131,
   "metadata": {},
   "outputs": [],
   "source": [
    "pluto= pluto.to_crs(crs.from_epsg(2263))"
   ]
  },
  {
   "cell_type": "code",
   "execution_count": 132,
   "metadata": {},
   "outputs": [],
   "source": [
    "sel_cols= ['Borough','LandUse','UnitsRes','id', 'geometry']"
   ]
  },
  {
   "cell_type": "code",
   "execution_count": 134,
   "metadata": {},
   "outputs": [],
   "source": [
    "df= gpd.overlay(pluto, grid, how='union')"
   ]
  },
  {
   "cell_type": "code",
   "execution_count": 11,
   "metadata": {},
   "outputs": [],
   "source": [
    "# if not spatial joining, importing preprocessed unioned shapefile\n",
    "#df= gpd.read_file(os.path.join(path_base, 'grided_pluto_short.shp'))"
   ]
  },
  {
   "cell_type": "code",
   "execution_count": 135,
   "metadata": {},
   "outputs": [],
   "source": [
    "df['polycutarea']= df.geometry.apply(lambda x: x.area)"
   ]
  },
  {
   "cell_type": "code",
   "execution_count": 137,
   "metadata": {},
   "outputs": [
    {
     "data": {
      "text/plain": [
       "LandUse\n",
       "09    1.003281e+06\n",
       "Name: polycutarea, dtype: float64"
      ]
     },
     "execution_count": 137,
     "metadata": {},
     "output_type": "execute_result"
    }
   ],
   "source": [
    "df[(df.id==10124)].groupby('LandUse').sum().polycutarea"
   ]
  },
  {
   "cell_type": "code",
   "execution_count": 138,
   "metadata": {
    "scrolled": false
   },
   "outputs": [],
   "source": [
    "uses= df[['id', 'LandUse', 'polycutarea']].groupby(['id', 'LandUse']).sum().unstack()"
   ]
  },
  {
   "cell_type": "code",
   "execution_count": 142,
   "metadata": {},
   "outputs": [
    {
     "data": {
      "text/plain": [
       "(9401, 11)"
      ]
     },
     "execution_count": 142,
     "metadata": {},
     "output_type": "execute_result"
    }
   ],
   "source": [
    "uses.shape"
   ]
  },
  {
   "cell_type": "code",
   "execution_count": 143,
   "metadata": {},
   "outputs": [],
   "source": [
    "use_cols= ['01', '02', '03', '04', '05', '06', '07', '08', '09', '10', '11']"
   ]
  },
  {
   "cell_type": "code",
   "execution_count": 144,
   "metadata": {},
   "outputs": [],
   "source": [
    "uses.columns= ['01', '02', '03', '04', '05', '06', '07', '08', '09', '10', '11']"
   ]
  },
  {
   "cell_type": "code",
   "execution_count": 145,
   "metadata": {},
   "outputs": [],
   "source": [
    "grid.index= grid.id"
   ]
  },
  {
   "cell_type": "code",
   "execution_count": 146,
   "metadata": {},
   "outputs": [],
   "source": [
    "grided_pluto= grid.join(uses, how='inner').drop(['left', 'right', 'top', 'bottom'], axis=1)"
   ]
  },
  {
   "cell_type": "code",
   "execution_count": 148,
   "metadata": {},
   "outputs": [],
   "source": [
    "forty_acres= grided_pluto.iloc[4739].geometry.area"
   ]
  },
  {
   "cell_type": "code",
   "execution_count": 149,
   "metadata": {},
   "outputs": [],
   "source": [
    "grided_pluto['t_landused']= grided_pluto[use_cols].sum(axis=1)"
   ]
  },
  {
   "cell_type": "code",
   "execution_count": 152,
   "metadata": {},
   "outputs": [],
   "source": [
    "grided_pluto['p_landused']= grided_pluto.t_landused/forty_acres"
   ]
  },
  {
   "cell_type": "code",
   "execution_count": 153,
   "metadata": {},
   "outputs": [
    {
     "data": {
      "text/plain": [
       "0.11231651088516041"
      ]
     },
     "execution_count": 153,
     "metadata": {},
     "output_type": "execute_result"
    }
   ],
   "source": [
    "grided_pluto.p_landused.quantile(0.05)"
   ]
  },
  {
   "cell_type": "code",
   "execution_count": 154,
   "metadata": {},
   "outputs": [],
   "source": [
    "plu= grided_pluto.p_landused\n",
    "plu= (plu-plu.min())/(plu.max()-plu.min())"
   ]
  },
  {
   "cell_type": "code",
   "execution_count": 155,
   "metadata": {},
   "outputs": [],
   "source": [
    "grided_pluto['p_landused']= plu"
   ]
  },
  {
   "cell_type": "code",
   "execution_count": 157,
   "metadata": {},
   "outputs": [],
   "source": [
    "grided_pluto['primary_use']= grided_pluto[use_cols].idxmax(axis=1)"
   ]
  },
  {
   "cell_type": "code",
   "execution_count": 158,
   "metadata": {
    "scrolled": true
   },
   "outputs": [
    {
     "data": {
      "text/html": [
       "<div>\n",
       "<style scoped>\n",
       "    .dataframe tbody tr th:only-of-type {\n",
       "        vertical-align: middle;\n",
       "    }\n",
       "\n",
       "    .dataframe tbody tr th {\n",
       "        vertical-align: top;\n",
       "    }\n",
       "\n",
       "    .dataframe thead th {\n",
       "        text-align: right;\n",
       "    }\n",
       "</style>\n",
       "<table border=\"1\" class=\"dataframe\">\n",
       "  <thead>\n",
       "    <tr style=\"text-align: right;\">\n",
       "      <th></th>\n",
       "      <th>id</th>\n",
       "      <th>geometry</th>\n",
       "      <th>01</th>\n",
       "      <th>02</th>\n",
       "      <th>03</th>\n",
       "      <th>04</th>\n",
       "      <th>05</th>\n",
       "      <th>06</th>\n",
       "      <th>07</th>\n",
       "      <th>08</th>\n",
       "      <th>09</th>\n",
       "      <th>10</th>\n",
       "      <th>11</th>\n",
       "      <th>primary_use</th>\n",
       "      <th>t_landused</th>\n",
       "      <th>p_landused</th>\n",
       "    </tr>\n",
       "    <tr>\n",
       "      <th>id</th>\n",
       "      <th></th>\n",
       "      <th></th>\n",
       "      <th></th>\n",
       "      <th></th>\n",
       "      <th></th>\n",
       "      <th></th>\n",
       "      <th></th>\n",
       "      <th></th>\n",
       "      <th></th>\n",
       "      <th></th>\n",
       "      <th></th>\n",
       "      <th></th>\n",
       "      <th></th>\n",
       "      <th></th>\n",
       "      <th></th>\n",
       "      <th></th>\n",
       "    </tr>\n",
       "  </thead>\n",
       "  <tbody>\n",
       "    <tr>\n",
       "      <th>149.0</th>\n",
       "      <td>149</td>\n",
       "      <td>POLYGON ((912750.0623395484 125435.9292472598,...</td>\n",
       "      <td>155539.941677</td>\n",
       "      <td>NaN</td>\n",
       "      <td>NaN</td>\n",
       "      <td>NaN</td>\n",
       "      <td>NaN</td>\n",
       "      <td>NaN</td>\n",
       "      <td>NaN</td>\n",
       "      <td>NaN</td>\n",
       "      <td>NaN</td>\n",
       "      <td>18530.65095</td>\n",
       "      <td>12447.387854</td>\n",
       "      <td>01</td>\n",
       "      <td>186517.980481</td>\n",
       "      <td>0.185361</td>\n",
       "    </tr>\n",
       "    <tr>\n",
       "      <th>150.0</th>\n",
       "      <td>150</td>\n",
       "      <td>POLYGON ((912747.123653074 124434.8061798724, ...</td>\n",
       "      <td>333705.346951</td>\n",
       "      <td>NaN</td>\n",
       "      <td>NaN</td>\n",
       "      <td>NaN</td>\n",
       "      <td>NaN</td>\n",
       "      <td>NaN</td>\n",
       "      <td>NaN</td>\n",
       "      <td>NaN</td>\n",
       "      <td>12091.160038</td>\n",
       "      <td>NaN</td>\n",
       "      <td>62718.860142</td>\n",
       "      <td>01</td>\n",
       "      <td>408515.367131</td>\n",
       "      <td>0.405981</td>\n",
       "    </tr>\n",
       "    <tr>\n",
       "      <th>151.0</th>\n",
       "      <td>151</td>\n",
       "      <td>POLYGON ((912744.1848467529 123433.6422841674,...</td>\n",
       "      <td>NaN</td>\n",
       "      <td>NaN</td>\n",
       "      <td>NaN</td>\n",
       "      <td>NaN</td>\n",
       "      <td>NaN</td>\n",
       "      <td>NaN</td>\n",
       "      <td>NaN</td>\n",
       "      <td>74160.621559</td>\n",
       "      <td>387205.314655</td>\n",
       "      <td>NaN</td>\n",
       "      <td>NaN</td>\n",
       "      <td>09</td>\n",
       "      <td>461365.936214</td>\n",
       "      <td>0.458503</td>\n",
       "    </tr>\n",
       "    <tr>\n",
       "      <th>152.0</th>\n",
       "      <td>152</td>\n",
       "      <td>POLYGON ((912741.2459205799 122432.437558528, ...</td>\n",
       "      <td>NaN</td>\n",
       "      <td>NaN</td>\n",
       "      <td>NaN</td>\n",
       "      <td>NaN</td>\n",
       "      <td>NaN</td>\n",
       "      <td>NaN</td>\n",
       "      <td>NaN</td>\n",
       "      <td>3517.552924</td>\n",
       "      <td>84737.904923</td>\n",
       "      <td>NaN</td>\n",
       "      <td>NaN</td>\n",
       "      <td>09</td>\n",
       "      <td>88255.457847</td>\n",
       "      <td>0.087708</td>\n",
       "    </tr>\n",
       "    <tr>\n",
       "      <th>301.0</th>\n",
       "      <td>301</td>\n",
       "      <td>POLYGON ((913760.8594080287 127435.1238032234,...</td>\n",
       "      <td>70239.979770</td>\n",
       "      <td>NaN</td>\n",
       "      <td>NaN</td>\n",
       "      <td>NaN</td>\n",
       "      <td>11071.285272</td>\n",
       "      <td>NaN</td>\n",
       "      <td>27335.698545</td>\n",
       "      <td>NaN</td>\n",
       "      <td>5424.993390</td>\n",
       "      <td>NaN</td>\n",
       "      <td>102320.288068</td>\n",
       "      <td>11</td>\n",
       "      <td>216392.245045</td>\n",
       "      <td>0.215050</td>\n",
       "    </tr>\n",
       "  </tbody>\n",
       "</table>\n",
       "</div>"
      ],
      "text/plain": [
       "        id                                           geometry             01  \\\n",
       "id                                                                             \n",
       "149.0  149  POLYGON ((912750.0623395484 125435.9292472598,...  155539.941677   \n",
       "150.0  150  POLYGON ((912747.123653074 124434.8061798724, ...  333705.346951   \n",
       "151.0  151  POLYGON ((912744.1848467529 123433.6422841674,...            NaN   \n",
       "152.0  152  POLYGON ((912741.2459205799 122432.437558528, ...            NaN   \n",
       "301.0  301  POLYGON ((913760.8594080287 127435.1238032234,...   70239.979770   \n",
       "\n",
       "       02  03  04            05  06            07            08  \\\n",
       "id                                                                \n",
       "149.0 NaN NaN NaN           NaN NaN           NaN           NaN   \n",
       "150.0 NaN NaN NaN           NaN NaN           NaN           NaN   \n",
       "151.0 NaN NaN NaN           NaN NaN           NaN  74160.621559   \n",
       "152.0 NaN NaN NaN           NaN NaN           NaN   3517.552924   \n",
       "301.0 NaN NaN NaN  11071.285272 NaN  27335.698545           NaN   \n",
       "\n",
       "                  09           10             11 primary_use     t_landused  \\\n",
       "id                                                                            \n",
       "149.0            NaN  18530.65095   12447.387854          01  186517.980481   \n",
       "150.0   12091.160038          NaN   62718.860142          01  408515.367131   \n",
       "151.0  387205.314655          NaN            NaN          09  461365.936214   \n",
       "152.0   84737.904923          NaN            NaN          09   88255.457847   \n",
       "301.0    5424.993390          NaN  102320.288068          11  216392.245045   \n",
       "\n",
       "       p_landused  \n",
       "id                 \n",
       "149.0    0.185361  \n",
       "150.0    0.405981  \n",
       "151.0    0.458503  \n",
       "152.0    0.087708  \n",
       "301.0    0.215050  "
      ]
     },
     "execution_count": 158,
     "metadata": {},
     "output_type": "execute_result"
    }
   ],
   "source": [
    "grided_pluto.head()"
   ]
  },
  {
   "cell_type": "code",
   "execution_count": 159,
   "metadata": {},
   "outputs": [],
   "source": [
    "grided_pluto.drop('id', axis=1, inplace=True)"
   ]
  },
  {
   "cell_type": "code",
   "execution_count": 160,
   "metadata": {},
   "outputs": [
    {
     "name": "stderr",
     "output_type": "stream",
     "text": [
      "/Users/raphaellaude/anaconda3/lib/python3.7/site-packages/geopandas/io/file.py:108: FionaDeprecationWarning: Use fiona.Env() instead.\n",
      "  with fiona.drivers():\n"
     ]
    }
   ],
   "source": [
    "grided_pluto.to_file(os.path.join(path_base, 'primary_uses_grid_190204.shp'))"
   ]
  },
  {
   "cell_type": "code",
   "execution_count": 162,
   "metadata": {},
   "outputs": [
    {
     "data": {
      "text/plain": [
       "9401"
      ]
     },
     "execution_count": 162,
     "metadata": {},
     "output_type": "execute_result"
    }
   ],
   "source": [
    "grided_pluto.shape[0]"
   ]
  },
  {
   "cell_type": "code",
   "execution_count": 170,
   "metadata": {},
   "outputs": [],
   "source": [
    "grided_pluto[grided_pluto.p_landused>0.2].to_file(os.path.join(path_base, 'primary_uses_grid_190204_over2p.shp'))"
   ]
  },
  {
   "cell_type": "code",
   "execution_count": 176,
   "metadata": {},
   "outputs": [
    {
     "data": {
      "text/plain": [
       "id\n",
       "149.0    1.006161e+06\n",
       "150.0    1.006243e+06\n",
       "151.0    1.006325e+06\n",
       "152.0    1.006408e+06\n",
       "301.0    1.005996e+06\n",
       "dtype: float64"
      ]
     },
     "execution_count": 176,
     "metadata": {},
     "output_type": "execute_result"
    }
   ],
   "source": [
    "grided_pluto.geometry.area.head()"
   ]
  },
  {
   "cell_type": "code",
   "execution_count": 182,
   "metadata": {},
   "outputs": [
    {
     "data": {
      "text/plain": [
       "23.094490358126723"
      ]
     },
     "execution_count": 182,
     "metadata": {},
     "output_type": "execute_result"
    }
   ],
   "source": [
    "1.005996e+06/43560"
   ]
  },
  {
   "cell_type": "code",
   "execution_count": 178,
   "metadata": {},
   "outputs": [
    {
     "data": {
      "text/plain": [
       "1003.0757698200072"
      ]
     },
     "execution_count": 178,
     "metadata": {},
     "output_type": "execute_result"
    }
   ],
   "source": [
    "np.sqrt(1.006161e+06)"
   ]
  },
  {
   "cell_type": "code",
   "execution_count": 189,
   "metadata": {},
   "outputs": [
    {
     "data": {
      "image/png": "[encoded data removed]",
      "text/plain": [
       "<Figure size 432x288 with 1 Axes>"
      ]
     },
     "metadata": {},
     "output_type": "display_data"
    }
   ],
   "source": [
    "grided_pluto.sum()['01 02 03 04'.split()].plot(kind='pie');\n",
    "plt.savefig(os.path.join(path_base, 'housing_pie.pdf'))"
   ]
  },
  {
   "cell_type": "code",
   "execution_count": 192,
   "metadata": {},
   "outputs": [],
   "source": [
    "housing=pd.DataFrame(grided_pluto.sum()['01 02 03 04'.split()])"
   ]
  },
  {
   "cell_type": "code",
   "execution_count": 207,
   "metadata": {},
   "outputs": [],
   "source": [
    "housing['pct_type']= housing.iloc[:,0]/2.92683601e+09"
   ]
  },
  {
   "cell_type": "code",
   "execution_count": 208,
   "metadata": {},
   "outputs": [
    {
     "data": {
      "text/html": [
       "<div>\n",
       "<style scoped>\n",
       "    .dataframe tbody tr th:only-of-type {\n",
       "        vertical-align: middle;\n",
       "    }\n",
       "\n",
       "    .dataframe tbody tr th {\n",
       "        vertical-align: top;\n",
       "    }\n",
       "\n",
       "    .dataframe thead th {\n",
       "        text-align: right;\n",
       "    }\n",
       "</style>\n",
       "<table border=\"1\" class=\"dataframe\">\n",
       "  <thead>\n",
       "    <tr style=\"text-align: right;\">\n",
       "      <th></th>\n",
       "      <th>0</th>\n",
       "      <th>pct_type</th>\n",
       "    </tr>\n",
       "  </thead>\n",
       "  <tbody>\n",
       "    <tr>\n",
       "      <th>01</th>\n",
       "      <td>1.843220e+09</td>\n",
       "      <td>0.629765</td>\n",
       "    </tr>\n",
       "    <tr>\n",
       "      <th>02</th>\n",
       "      <td>4.852431e+08</td>\n",
       "      <td>0.165791</td>\n",
       "    </tr>\n",
       "    <tr>\n",
       "      <th>03</th>\n",
       "      <td>3.505351e+08</td>\n",
       "      <td>0.119766</td>\n",
       "    </tr>\n",
       "    <tr>\n",
       "      <th>04</th>\n",
       "      <td>2.478377e+08</td>\n",
       "      <td>0.084678</td>\n",
       "    </tr>\n",
       "  </tbody>\n",
       "</table>\n",
       "</div>"
      ],
      "text/plain": [
       "               0  pct_type\n",
       "01  1.843220e+09  0.629765\n",
       "02  4.852431e+08  0.165791\n",
       "03  3.505351e+08  0.119766\n",
       "04  2.478377e+08  0.084678"
      ]
     },
     "execution_count": 208,
     "metadata": {},
     "output_type": "execute_result"
    }
   ],
   "source": [
    "housing"
   ]
  },
  {
   "cell_type": "code",
   "execution_count": 206,
   "metadata": {},
   "outputs": [
    {
     "data": {
      "text/plain": [
       "01    0.629765\n",
       "02    0.165791\n",
       "03    0.119766\n",
       "04    0.084678\n",
       "Name: 0, dtype: float64"
      ]
     },
     "execution_count": 206,
     "metadata": {},
     "output_type": "execute_result"
    }
   ],
   "source": [
    "housing.iloc[:,0]/2.92683601e+09"
   ]
  },
  {
   "cell_type": "code",
   "execution_count": 205,
   "metadata": {},
   "outputs": [
    {
     "data": {
      "text/plain": [
       "array([2.92683601e+09, 0.00000000e+00])"
      ]
     },
     "execution_count": 205,
     "metadata": {},
     "output_type": "execute_result"
    }
   ],
   "source": [
    "housing.sum().values"
   ]
  },
  {
   "cell_type": "code",
   "execution_count": null,
   "metadata": {},
   "outputs": [],
   "source": []
  }
 ],
 "metadata": {
  "kernelspec": {
   "display_name": "Python 3",
   "language": "python",
   "name": "python3"
  },
  "language_info": {
   "codemirror_mode": {
    "name": "ipython",
    "version": 3
   },
   "file_extension": ".py",
   "mimetype": "text/x-python",
   "name": "python",
   "nbconvert_exporter": "python",
   "pygments_lexer": "ipython3",
   "version": "3.7.1"
  }
 },
 "nbformat": 4,
 "nbformat_minor": 2
}
