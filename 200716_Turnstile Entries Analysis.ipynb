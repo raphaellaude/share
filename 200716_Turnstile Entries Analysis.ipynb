{
 "cells": [
  {
   "cell_type": "code",
   "execution_count": 1,
   "metadata": {},
   "outputs": [],
   "source": [
    "import pandas as pd, geopandas as gpd, numpy as np, matplotlib.pyplot as plt\n",
    "from os.path import join\n",
    "\n",
    "pd.set_option('display.max_columns', 50)\n",
    "plt.rcParams['pdf.fonttype'] = 'truetype'"
   ]
  },
  {
   "cell_type": "markdown",
   "metadata": {},
   "source": [
    "## helpers"
   ]
  },
  {
   "cell_type": "code",
   "execution_count": 2,
   "metadata": {},
   "outputs": [],
   "source": [
    "def decorate(xl, yl):\n",
    "    plt.xlabel(xl)\n",
    "    plt.ylabel(yl)\n",
    "    plt.box(None)\n",
    "    plt.legend(bbox_to_anchor=(1,.5), loc='center left', frameon=False)"
   ]
  },
  {
   "cell_type": "markdown",
   "metadata": {},
   "source": [
    "## load data"
   ]
  },
  {
   "cell_type": "code",
   "execution_count": 3,
   "metadata": {},
   "outputs": [],
   "source": [
    "turn = pd.read_csv(r\"M:\\NYSERDA_Ignition Grant 19041\\03_GIS+ANALYSIS\\01_DATA\\station_vol_by_hour_final - station_vol_by_hour.csv\")"
   ]
  },
  {
   "cell_type": "code",
   "execution_count": 4,
   "metadata": {},
   "outputs": [
    {
     "data": {
      "text/plain": [
       "(72634, 7)"
      ]
     },
     "execution_count": 4,
     "metadata": {},
     "output_type": "execute_result"
    }
   ],
   "source": [
    "turn.shape"
   ]
  },
  {
   "cell_type": "code",
   "execution_count": 5,
   "metadata": {},
   "outputs": [
    {
     "data": {
      "text/html": [
       "<div>\n",
       "<style scoped>\n",
       "    .dataframe tbody tr th:only-of-type {\n",
       "        vertical-align: middle;\n",
       "    }\n",
       "\n",
       "    .dataframe tbody tr th {\n",
       "        vertical-align: top;\n",
       "    }\n",
       "\n",
       "    .dataframe thead th {\n",
       "        text-align: right;\n",
       "    }\n",
       "</style>\n",
       "<table border=\"1\" class=\"dataframe\">\n",
       "  <thead>\n",
       "    <tr style=\"text-align: right;\">\n",
       "      <th></th>\n",
       "      <th>station_id</th>\n",
       "      <th>GTFS Latitude</th>\n",
       "      <th>GTFS Longitude</th>\n",
       "      <th>wkdaynbr</th>\n",
       "      <th>timegroupstr</th>\n",
       "      <th>date</th>\n",
       "      <th>entries_diff</th>\n",
       "    </tr>\n",
       "  </thead>\n",
       "  <tbody>\n",
       "    <tr>\n",
       "      <th>10441</th>\n",
       "      <td>69 StFlushing</td>\n",
       "      <td>40.746325</td>\n",
       "      <td>-73.896403</td>\n",
       "      <td>1</td>\n",
       "      <td>8am - 12pm</td>\n",
       "      <td>7/8/19</td>\n",
       "      <td>1523</td>\n",
       "    </tr>\n",
       "    <tr>\n",
       "      <th>32895</th>\n",
       "      <td>85 St - Forest PkwyJamaica</td>\n",
       "      <td>40.692435</td>\n",
       "      <td>-73.860010</td>\n",
       "      <td>3</td>\n",
       "      <td>4pm - 8pm</td>\n",
       "      <td>7/10/19</td>\n",
       "      <td>418</td>\n",
       "    </tr>\n",
       "    <tr>\n",
       "      <th>10986</th>\n",
       "      <td>Lexington Av/59 StAstoria</td>\n",
       "      <td>40.762660</td>\n",
       "      <td>-73.967258</td>\n",
       "      <td>1</td>\n",
       "      <td>4pm - 8pm</td>\n",
       "      <td>6/29/20</td>\n",
       "      <td>1465</td>\n",
       "    </tr>\n",
       "    <tr>\n",
       "      <th>64929</th>\n",
       "      <td>111 StJamaica</td>\n",
       "      <td>40.697418</td>\n",
       "      <td>-73.836345</td>\n",
       "      <td>4</td>\n",
       "      <td>12am - 4am</td>\n",
       "      <td>7/11/19</td>\n",
       "      <td>30</td>\n",
       "    </tr>\n",
       "    <tr>\n",
       "      <th>20977</th>\n",
       "      <td>8 AvSea Beach</td>\n",
       "      <td>40.635064</td>\n",
       "      <td>-74.011719</td>\n",
       "      <td>4</td>\n",
       "      <td>4pm - 8pm</td>\n",
       "      <td>7/4/19</td>\n",
       "      <td>785</td>\n",
       "    </tr>\n",
       "    <tr>\n",
       "      <th>25781</th>\n",
       "      <td>Tremont AvConcourse</td>\n",
       "      <td>40.850410</td>\n",
       "      <td>-73.905227</td>\n",
       "      <td>3</td>\n",
       "      <td>4pm - 8pm</td>\n",
       "      <td>7/8/20</td>\n",
       "      <td>609</td>\n",
       "    </tr>\n",
       "    <tr>\n",
       "      <th>66283</th>\n",
       "      <td>World Trade Center8th Av - Fulton St</td>\n",
       "      <td>40.712582</td>\n",
       "      <td>-74.009781</td>\n",
       "      <td>6</td>\n",
       "      <td>12am - 4am</td>\n",
       "      <td>6/27/20</td>\n",
       "      <td>20</td>\n",
       "    </tr>\n",
       "    <tr>\n",
       "      <th>53823</th>\n",
       "      <td>Tremont AvConcourse</td>\n",
       "      <td>40.850410</td>\n",
       "      <td>-73.905227</td>\n",
       "      <td>3</td>\n",
       "      <td>12am - 4am</td>\n",
       "      <td>7/1/20</td>\n",
       "      <td>124</td>\n",
       "    </tr>\n",
       "    <tr>\n",
       "      <th>21926</th>\n",
       "      <td>Essex StJamaica</td>\n",
       "      <td>40.718315</td>\n",
       "      <td>-73.987437</td>\n",
       "      <td>3</td>\n",
       "      <td>12am - 4am</td>\n",
       "      <td>7/10/19</td>\n",
       "      <td>744</td>\n",
       "    </tr>\n",
       "    <tr>\n",
       "      <th>15823</th>\n",
       "      <td>Kosciuszko StJamaica</td>\n",
       "      <td>40.693342</td>\n",
       "      <td>-73.928814</td>\n",
       "      <td>6</td>\n",
       "      <td>12pm - 4pm</td>\n",
       "      <td>7/6/19</td>\n",
       "      <td>1057</td>\n",
       "    </tr>\n",
       "  </tbody>\n",
       "</table>\n",
       "</div>"
      ],
      "text/plain": [
       "                                 station_id  GTFS Latitude  GTFS Longitude  \\\n",
       "10441                         69 StFlushing      40.746325      -73.896403   \n",
       "32895            85 St - Forest PkwyJamaica      40.692435      -73.860010   \n",
       "10986             Lexington Av/59 StAstoria      40.762660      -73.967258   \n",
       "64929                         111 StJamaica      40.697418      -73.836345   \n",
       "20977                         8 AvSea Beach      40.635064      -74.011719   \n",
       "25781                   Tremont AvConcourse      40.850410      -73.905227   \n",
       "66283  World Trade Center8th Av - Fulton St      40.712582      -74.009781   \n",
       "53823                   Tremont AvConcourse      40.850410      -73.905227   \n",
       "21926                       Essex StJamaica      40.718315      -73.987437   \n",
       "15823                  Kosciuszko StJamaica      40.693342      -73.928814   \n",
       "\n",
       "       wkdaynbr timegroupstr     date  entries_diff  \n",
       "10441         1   8am - 12pm   7/8/19          1523  \n",
       "32895         3    4pm - 8pm  7/10/19           418  \n",
       "10986         1    4pm - 8pm  6/29/20          1465  \n",
       "64929         4   12am - 4am  7/11/19            30  \n",
       "20977         4    4pm - 8pm   7/4/19           785  \n",
       "25781         3    4pm - 8pm   7/8/20           609  \n",
       "66283         6   12am - 4am  6/27/20            20  \n",
       "53823         3   12am - 4am   7/1/20           124  \n",
       "21926         3   12am - 4am  7/10/19           744  \n",
       "15823         6   12pm - 4pm   7/6/19          1057  "
      ]
     },
     "execution_count": 5,
     "metadata": {},
     "output_type": "execute_result"
    }
   ],
   "source": [
    "turn.sample(10)"
   ]
  },
  {
   "cell_type": "markdown",
   "metadata": {},
   "source": [
    "## prep data"
   ]
  },
  {
   "cell_type": "code",
   "execution_count": 6,
   "metadata": {},
   "outputs": [],
   "source": [
    "# Datetime format for sorting / time-series analysis\n",
    "turn['dt'] = pd.to_datetime(turn.date)"
   ]
  },
  {
   "cell_type": "code",
   "execution_count": 7,
   "metadata": {},
   "outputs": [],
   "source": [
    "# recode time group as int for sorting / time-series analysis\n",
    "\n",
    "time_map = {\n",
    "    '8pm - 12am':5,\n",
    "    '12pm - 4pm':3,\n",
    "    '4pm - 8pm':4,\n",
    "    '8am - 12pm':2,\n",
    "    '4am - 8am':1,\n",
    "    '12am - 4am':0}\n",
    "\n",
    "turn['timegroupnbr'] = turn.timegroupstr.map(time_map)\n",
    "\n",
    "assert turn.timegroupnbr.isna().sum() == 0"
   ]
  },
  {
   "cell_type": "markdown",
   "metadata": {},
   "source": [
    "## filter and dissagregate"
   ]
  },
  {
   "cell_type": "code",
   "execution_count": 8,
   "metadata": {},
   "outputs": [],
   "source": [
    "stops = [\n",
    "    'Jamaica Center - Parsons/ArcherQueens - Archer',\n",
    "    'Sutphin Blvd - Archer Av - JFK AirportQueens - Archer',\n",
    "    'Sutphin BlvdQueens Blvd']"
   ]
  },
  {
   "cell_type": "code",
   "execution_count": 9,
   "metadata": {},
   "outputs": [
    {
     "data": {
      "text/html": [
       "<div>\n",
       "<style scoped>\n",
       "    .dataframe tbody tr th:only-of-type {\n",
       "        vertical-align: middle;\n",
       "    }\n",
       "\n",
       "    .dataframe tbody tr th {\n",
       "        vertical-align: top;\n",
       "    }\n",
       "\n",
       "    .dataframe thead th {\n",
       "        text-align: right;\n",
       "    }\n",
       "</style>\n",
       "<table border=\"1\" class=\"dataframe\">\n",
       "  <thead>\n",
       "    <tr style=\"text-align: right;\">\n",
       "      <th></th>\n",
       "      <th>station_id</th>\n",
       "      <th>dt</th>\n",
       "      <th>timegroupnbr</th>\n",
       "      <th>entries_diff</th>\n",
       "    </tr>\n",
       "  </thead>\n",
       "  <tbody>\n",
       "    <tr>\n",
       "      <th>94</th>\n",
       "      <td>Sutphin Blvd - Archer Av - JFK AirportQueens -...</td>\n",
       "      <td>2019-07-07</td>\n",
       "      <td>4</td>\n",
       "      <td>957</td>\n",
       "    </tr>\n",
       "    <tr>\n",
       "      <th>21</th>\n",
       "      <td>Jamaica Center - Parsons/ArcherQueens - Archer</td>\n",
       "      <td>2019-07-03</td>\n",
       "      <td>3</td>\n",
       "      <td>2350</td>\n",
       "    </tr>\n",
       "    <tr>\n",
       "      <th>62</th>\n",
       "      <td>Sutphin Blvd - Archer Av - JFK AirportQueens -...</td>\n",
       "      <td>2019-06-30</td>\n",
       "      <td>2</td>\n",
       "      <td>213</td>\n",
       "    </tr>\n",
       "    <tr>\n",
       "      <th>28</th>\n",
       "      <td>Jamaica Center - Parsons/ArcherQueens - Archer</td>\n",
       "      <td>2019-07-04</td>\n",
       "      <td>4</td>\n",
       "      <td>3169</td>\n",
       "    </tr>\n",
       "    <tr>\n",
       "      <th>50</th>\n",
       "      <td>Jamaica Center - Parsons/ArcherQueens - Archer</td>\n",
       "      <td>2019-07-10</td>\n",
       "      <td>2</td>\n",
       "      <td>4008</td>\n",
       "    </tr>\n",
       "  </tbody>\n",
       "</table>\n",
       "</div>"
      ],
      "text/plain": [
       "                                           station_id         dt  \\\n",
       "94  Sutphin Blvd - Archer Av - JFK AirportQueens -... 2019-07-07   \n",
       "21     Jamaica Center - Parsons/ArcherQueens - Archer 2019-07-03   \n",
       "62  Sutphin Blvd - Archer Av - JFK AirportQueens -... 2019-06-30   \n",
       "28     Jamaica Center - Parsons/ArcherQueens - Archer 2019-07-04   \n",
       "50     Jamaica Center - Parsons/ArcherQueens - Archer 2019-07-10   \n",
       "\n",
       "    timegroupnbr  entries_diff  \n",
       "94             4           957  \n",
       "21             3          2350  \n",
       "62             2           213  \n",
       "28             4          3169  \n",
       "50             2          4008  "
      ]
     },
     "execution_count": 9,
     "metadata": {},
     "output_type": "execute_result"
    }
   ],
   "source": [
    "filt = turn.station_id.isin(stops) & ~turn.wkdaynbr.isin([5, 6])\n",
    "\n",
    "group_cols = ['station_id', 'dt', 'timegroupnbr']\n",
    "agg = {'entries_diff':'sum'}\n",
    "\n",
    "df19 = turn[filt & turn.dt.dt.year.eq(2019)]\\\n",
    "    .groupby(group_cols).agg(agg).reset_index()\n",
    "df20 = turn[filt & turn.dt.dt.year.eq(2020)]\\\n",
    "    .groupby(group_cols).agg(agg).reset_index()\n",
    "\n",
    "df19.sample(5)"
   ]
  },
  {
   "cell_type": "markdown",
   "metadata": {},
   "source": [
    "## ridership trend"
   ]
  },
  {
   "cell_type": "markdown",
   "metadata": {},
   "source": [
    "### overall"
   ]
  },
  {
   "cell_type": "code",
   "execution_count": 10,
   "metadata": {},
   "outputs": [
    {
     "data": {
      "text/plain": [
       "'Ridership is down 56.4% overall'"
      ]
     },
     "execution_count": 10,
     "metadata": {},
     "output_type": "execute_result"
    }
   ],
   "source": [
    "f'Ridership is down {np.round((1 - df20.entries_diff.sum() / df19.entries_diff.sum()) * 100, 1)}% overall'"
   ]
  },
  {
   "cell_type": "code",
   "execution_count": 11,
   "metadata": {},
   "outputs": [
    {
     "data": {
      "text/html": [
       "<div>\n",
       "<style scoped>\n",
       "    .dataframe tbody tr th:only-of-type {\n",
       "        vertical-align: middle;\n",
       "    }\n",
       "\n",
       "    .dataframe tbody tr th {\n",
       "        vertical-align: top;\n",
       "    }\n",
       "\n",
       "    .dataframe thead th {\n",
       "        text-align: right;\n",
       "    }\n",
       "</style>\n",
       "<table border=\"1\" class=\"dataframe\">\n",
       "  <thead>\n",
       "    <tr style=\"text-align: right;\">\n",
       "      <th></th>\n",
       "      <th>entries_diff</th>\n",
       "    </tr>\n",
       "    <tr>\n",
       "      <th>station_id</th>\n",
       "      <th></th>\n",
       "    </tr>\n",
       "  </thead>\n",
       "  <tbody>\n",
       "    <tr>\n",
       "      <th>Jamaica Center - Parsons/ArcherQueens - Archer</th>\n",
       "      <td>0.31</td>\n",
       "    </tr>\n",
       "    <tr>\n",
       "      <th>Sutphin Blvd - Archer Av - JFK AirportQueens - Archer</th>\n",
       "      <td>0.68</td>\n",
       "    </tr>\n",
       "    <tr>\n",
       "      <th>Sutphin BlvdQueens Blvd</th>\n",
       "      <td>0.72</td>\n",
       "    </tr>\n",
       "  </tbody>\n",
       "</table>\n",
       "</div>"
      ],
      "text/plain": [
       "                                                    entries_diff\n",
       "station_id                                                      \n",
       "Jamaica Center - Parsons/ArcherQueens - Archer              0.31\n",
       "Sutphin Blvd - Archer Av - JFK AirportQueens - ...          0.68\n",
       "Sutphin BlvdQueens Blvd                                     0.72"
      ]
     },
     "execution_count": 11,
     "metadata": {},
     "output_type": "execute_result"
    }
   ],
   "source": [
    "1 - \\\n",
    "df20.groupby('station_id').agg({'entries_diff':'sum'}).div(\n",
    "    df19.groupby('station_id').agg({'entries_diff':'sum'}))\\\n",
    "    .round(2)"
   ]
  },
  {
   "cell_type": "code",
   "execution_count": 12,
   "metadata": {},
   "outputs": [
    {
     "data": {
      "image/png": "[encoded data removed]",
      "text/plain": [
       "<Figure size 576x288 with 1 Axes>"
      ]
     },
     "metadata": {
      "needs_background": "light"
     },
     "output_type": "display_data"
    }
   ],
   "source": [
    "fig, ax = plt.subplots(figsize=(8,4))\n",
    "\n",
    "station = 'Sutphin BlvdQueens Blvd'\n",
    "\n",
    "a19 = df19.groupby(['dt', 'timegroupnbr']).agg({'entries_diff':'sum'}).reset_index().entries_diff\n",
    "a20 = df20.groupby(['dt', 'timegroupnbr']).agg({'entries_diff':'sum'}).reset_index().entries_diff\n",
    "\n",
    "assert len(a19) == len(a20)\n",
    "\n",
    "x = np.arange(len(a19))\n",
    "\n",
    "ax.bar(x, height=a19.values, color='#e6e7e8', label='2019')\n",
    "ax.bar(x, height=a20.values, color='#ef80b1', label='2020')\n",
    "\n",
    "n = 6\n",
    "\n",
    "a19.rolling(n).mean().plot(color='#939291', label='Daily Moving Average: 2019')\n",
    "a20.rolling(n).mean().plot(color='#ea1687', label='Daily Moving Average: 2020')\n",
    "\n",
    "decorate('Time Group (4hrs)', 'Riders')\n",
    "plt.title(f'Subway Ridership at {station}', fontsize=11)\n",
    "\n",
    "plt.show();"
   ]
  },
  {
   "cell_type": "markdown",
   "metadata": {},
   "source": [
    "### sutphin blvd - queens blvd"
   ]
  },
  {
   "cell_type": "code",
   "execution_count": 13,
   "metadata": {},
   "outputs": [
    {
     "data": {
      "image/png": "[encoded data removed]",
      "text/plain": [
       "<Figure size 576x288 with 1 Axes>"
      ]
     },
     "metadata": {
      "needs_background": "light"
     },
     "output_type": "display_data"
    }
   ],
   "source": [
    "fig, ax = plt.subplots(figsize=(8,4))\n",
    "\n",
    "station = 'Sutphin BlvdQueens Blvd'\n",
    "\n",
    "a19 = df19[df19.station_id.eq(station)].reset_index(drop=True).entries_diff\n",
    "a20 = df20[df20.station_id.eq(station)].reset_index(drop=True).entries_diff\n",
    "\n",
    "assert len(a19) == len(a20)\n",
    "\n",
    "x = np.arange(len(a19))\n",
    "\n",
    "ax.bar(x, height=a19.values, color='#e6e7e8', label='2019')\n",
    "ax.bar(x, height=a20.values, color='#ef80b1', label='2020')\n",
    "\n",
    "n = 6\n",
    "\n",
    "a19.rolling(n).mean().plot(color='#939291', label='Daily Moving Average: 2019')\n",
    "a20.rolling(n).mean().plot(color='#ea1687', label='Daily Moving Average: 2020')\n",
    "\n",
    "decorate('Time Group (4hrs)', 'Riders')\n",
    "plt.title(f'Subway Ridership at {station}', loc='left', fontsize=11)\n",
    "\n",
    "plt.show();"
   ]
  },
  {
   "cell_type": "markdown",
   "metadata": {},
   "source": [
    "### sutphin blvd - archer av - jfk - archer"
   ]
  },
  {
   "cell_type": "code",
   "execution_count": 14,
   "metadata": {},
   "outputs": [
    {
     "data": {
      "image/png": "[encoded data removed]",
      "text/plain": [
       "<Figure size 576x288 with 1 Axes>"
      ]
     },
     "metadata": {
      "needs_background": "light"
     },
     "output_type": "display_data"
    }
   ],
   "source": [
    "fig, ax = plt.subplots(figsize=(8,4))\n",
    "\n",
    "station = 'Sutphin Blvd - Archer Av - JFK AirportQueens - Archer'\n",
    "\n",
    "a19 = df19[df19.station_id.eq(station)].reset_index(drop=True).entries_diff\n",
    "a20 = df20[df20.station_id.eq(station)].reset_index(drop=True).entries_diff\n",
    "\n",
    "assert len(a19) == len(a20)\n",
    "\n",
    "x = np.arange(len(a19))\n",
    "\n",
    "ax.bar(x, height=a19.values, color='#e6e7e8', label='2019')\n",
    "ax.bar(x, height=a20.values, color='#ef80b1', label='2020')\n",
    "\n",
    "n = 6\n",
    "\n",
    "a19.rolling(n).mean().plot(color='#939291', label='Daily Moving Average: 2019')\n",
    "a20.rolling(n).mean().plot(color='#ea1687', label='Daily Moving Average: 2020')\n",
    "\n",
    "decorate('Time Group (4hrs)', 'Riders')\n",
    "plt.title(f'Subway Ridership at {station}', loc='left', fontsize=11)\n",
    "\n",
    "plt.show();"
   ]
  },
  {
   "cell_type": "markdown",
   "metadata": {},
   "source": [
    "### jamaica center"
   ]
  },
  {
   "cell_type": "code",
   "execution_count": 15,
   "metadata": {},
   "outputs": [
    {
     "data": {
      "image/png": "[encoded data removed]",
      "text/plain": [
       "<Figure size 576x288 with 1 Axes>"
      ]
     },
     "metadata": {
      "needs_background": "light"
     },
     "output_type": "display_data"
    }
   ],
   "source": [
    "fig, ax = plt.subplots(figsize=(8,4))\n",
    "\n",
    "station = 'Jamaica Center - Parsons/ArcherQueens - Archer'\n",
    "\n",
    "a19 = df19[df19.station_id.eq(station)].reset_index(drop=True).entries_diff\n",
    "a20 = df20[df20.station_id.eq(station)].reset_index(drop=True).entries_diff\n",
    "\n",
    "assert len(a19) == len(a20)\n",
    "\n",
    "x = np.arange(len(a19))\n",
    "\n",
    "ax.bar(x, height=a19.values, color='#e6e7e8', label='2019')\n",
    "ax.bar(x, height=a20.values, color='#ef80b1', label='2020')\n",
    "\n",
    "n = 6\n",
    "\n",
    "a19.rolling(n).mean().plot(color='#939291', label='Daily Moving Average: 2019')\n",
    "a20.rolling(n).mean().plot(color='#ea1687', label='Daily Moving Average: 2020')\n",
    "\n",
    "decorate('Time Group (4hrs)', 'Riders')\n",
    "plt.title(f'Subway Ridership at {station}', loc='left', fontsize=11)\n",
    "\n",
    "plt.show();"
   ]
  },
  {
   "cell_type": "markdown",
   "metadata": {},
   "source": [
    "## change in entries by time group"
   ]
  },
  {
   "cell_type": "markdown",
   "metadata": {},
   "source": [
    "### overall"
   ]
  },
  {
   "cell_type": "code",
   "execution_count": 16,
   "metadata": {
    "scrolled": true
   },
   "outputs": [
    {
     "data": {
      "text/html": [
       "<div>\n",
       "<style scoped>\n",
       "    .dataframe tbody tr th:only-of-type {\n",
       "        vertical-align: middle;\n",
       "    }\n",
       "\n",
       "    .dataframe tbody tr th {\n",
       "        vertical-align: top;\n",
       "    }\n",
       "\n",
       "    .dataframe thead tr th {\n",
       "        text-align: left;\n",
       "    }\n",
       "\n",
       "    .dataframe thead tr:last-of-type th {\n",
       "        text-align: right;\n",
       "    }\n",
       "</style>\n",
       "<table border=\"1\" class=\"dataframe\">\n",
       "  <thead>\n",
       "    <tr>\n",
       "      <th></th>\n",
       "      <th colspan=\"4\" halign=\"left\">entries_share</th>\n",
       "    </tr>\n",
       "    <tr>\n",
       "      <th></th>\n",
       "      <th>min</th>\n",
       "      <th>max</th>\n",
       "      <th>median</th>\n",
       "      <th>mean</th>\n",
       "    </tr>\n",
       "    <tr>\n",
       "      <th>timegroupnbr_19</th>\n",
       "      <th></th>\n",
       "      <th></th>\n",
       "      <th></th>\n",
       "      <th></th>\n",
       "    </tr>\n",
       "  </thead>\n",
       "  <tbody>\n",
       "    <tr>\n",
       "      <th>0</th>\n",
       "      <td>0.032401</td>\n",
       "      <td>0.482759</td>\n",
       "      <td>0.118843</td>\n",
       "      <td>0.177005</td>\n",
       "    </tr>\n",
       "    <tr>\n",
       "      <th>1</th>\n",
       "      <td>0.000000</td>\n",
       "      <td>1.644096</td>\n",
       "      <td>0.336805</td>\n",
       "      <td>0.584239</td>\n",
       "    </tr>\n",
       "    <tr>\n",
       "      <th>2</th>\n",
       "      <td>0.209898</td>\n",
       "      <td>1.442667</td>\n",
       "      <td>0.377348</td>\n",
       "      <td>0.472004</td>\n",
       "    </tr>\n",
       "    <tr>\n",
       "      <th>3</th>\n",
       "      <td>0.199252</td>\n",
       "      <td>0.860177</td>\n",
       "      <td>0.305381</td>\n",
       "      <td>0.429311</td>\n",
       "    </tr>\n",
       "    <tr>\n",
       "      <th>4</th>\n",
       "      <td>0.197492</td>\n",
       "      <td>0.955378</td>\n",
       "      <td>0.304846</td>\n",
       "      <td>0.434428</td>\n",
       "    </tr>\n",
       "    <tr>\n",
       "      <th>5</th>\n",
       "      <td>0.137134</td>\n",
       "      <td>1.247039</td>\n",
       "      <td>0.293863</td>\n",
       "      <td>0.360122</td>\n",
       "    </tr>\n",
       "  </tbody>\n",
       "</table>\n",
       "</div>"
      ],
      "text/plain": [
       "                entries_share                              \n",
       "                          min       max    median      mean\n",
       "timegroupnbr_19                                            \n",
       "0                    0.032401  0.482759  0.118843  0.177005\n",
       "1                    0.000000  1.644096  0.336805  0.584239\n",
       "2                    0.209898  1.442667  0.377348  0.472004\n",
       "3                    0.199252  0.860177  0.305381  0.429311\n",
       "4                    0.197492  0.955378  0.304846  0.434428\n",
       "5                    0.137134  1.247039  0.293863  0.360122"
      ]
     },
     "execution_count": 16,
     "metadata": {},
     "output_type": "execute_result"
    }
   ],
   "source": [
    "a19 = df19.copy()\n",
    "a19.columns = [c + '_19' for c in a19.columns]\n",
    "\n",
    "a20 = df20.copy()\n",
    "a20.columns = [c + '_20' for c in a20.columns]\n",
    "\n",
    "achg = pd.concat([a19, a20], axis=1)\n",
    "\n",
    "assert np.all(achg.timegroupnbr_20.eq(achg.timegroupnbr_20))\n",
    "assert np.any(achg.entries_diff_20.notna()) & np.any(achg.entries_diff_19.notna())\n",
    "\n",
    "achg['entries_share'] = achg.entries_diff_20 / achg.entries_diff_19\n",
    "\n",
    "agg = ['min', 'max', 'median', 'mean']\n",
    "xx = achg.groupby('timegroupnbr_19').agg({'entries_share':agg})\n",
    "\n",
    "xx"
   ]
  },
  {
   "cell_type": "code",
   "execution_count": 17,
   "metadata": {},
   "outputs": [
    {
     "data": {
      "image/png": "[encoded data removed]",
      "text/plain": [
       "<Figure size 360x216 with 1 Axes>"
      ]
     },
     "metadata": {
      "needs_background": "light"
     },
     "output_type": "display_data"
    }
   ],
   "source": [
    "fig, ax = plt.subplots(figsize=(5,.5*len(xx)))\n",
    "\n",
    "colors = ['#1fabe3', '#ea1687', '#939291', 'k']\n",
    "\n",
    "for col, c, l in zip(xx, colors, agg):\n",
    "    x = xx[col].values\n",
    "    plt.scatter(x, xx.index, color=c, label=l)\n",
    "    \n",
    "decorate('', '')\n",
    "plt.title(f'Share of entries, 2019-2020, {station}', loc='left', fontsize=11)\n",
    "\n",
    "plt.grid(axis='x')\n",
    "plt.ylim(5.5, -0.5)\n",
    "plt.yticks(ticks=np.arange(6), labels=['12:00AM - 4:00AM', '4:00AM - 8:00AM', '8:00AM - 12:00PM',\n",
    "                   '12:00PM - 4:00PM', '4:00PM - 8:00PM', '8:00PM - 12:00AM'])\n",
    "\n",
    "plt.show();"
   ]
  },
  {
   "cell_type": "markdown",
   "metadata": {},
   "source": [
    "### sutphin blvd - queens blvd"
   ]
  },
  {
   "cell_type": "code",
   "execution_count": 18,
   "metadata": {},
   "outputs": [
    {
     "data": {
      "text/html": [
       "<div>\n",
       "<style scoped>\n",
       "    .dataframe tbody tr th:only-of-type {\n",
       "        vertical-align: middle;\n",
       "    }\n",
       "\n",
       "    .dataframe tbody tr th {\n",
       "        vertical-align: top;\n",
       "    }\n",
       "\n",
       "    .dataframe thead tr th {\n",
       "        text-align: left;\n",
       "    }\n",
       "\n",
       "    .dataframe thead tr:last-of-type th {\n",
       "        text-align: right;\n",
       "    }\n",
       "</style>\n",
       "<table border=\"1\" class=\"dataframe\">\n",
       "  <thead>\n",
       "    <tr>\n",
       "      <th></th>\n",
       "      <th colspan=\"4\" halign=\"left\">entries_share</th>\n",
       "    </tr>\n",
       "    <tr>\n",
       "      <th></th>\n",
       "      <th>min</th>\n",
       "      <th>max</th>\n",
       "      <th>median</th>\n",
       "      <th>mean</th>\n",
       "    </tr>\n",
       "    <tr>\n",
       "      <th>timegroupnbr_19</th>\n",
       "      <th></th>\n",
       "      <th></th>\n",
       "      <th></th>\n",
       "      <th></th>\n",
       "    </tr>\n",
       "  </thead>\n",
       "  <tbody>\n",
       "    <tr>\n",
       "      <th>0</th>\n",
       "      <td>0.032401</td>\n",
       "      <td>0.133136</td>\n",
       "      <td>0.062582</td>\n",
       "      <td>0.070320</td>\n",
       "    </tr>\n",
       "    <tr>\n",
       "      <th>1</th>\n",
       "      <td>0.300844</td>\n",
       "      <td>1.039160</td>\n",
       "      <td>0.332948</td>\n",
       "      <td>0.443590</td>\n",
       "    </tr>\n",
       "    <tr>\n",
       "      <th>2</th>\n",
       "      <td>0.212956</td>\n",
       "      <td>0.558252</td>\n",
       "      <td>0.246233</td>\n",
       "      <td>0.300215</td>\n",
       "    </tr>\n",
       "    <tr>\n",
       "      <th>3</th>\n",
       "      <td>0.199252</td>\n",
       "      <td>0.443464</td>\n",
       "      <td>0.249273</td>\n",
       "      <td>0.274146</td>\n",
       "    </tr>\n",
       "    <tr>\n",
       "      <th>4</th>\n",
       "      <td>0.219856</td>\n",
       "      <td>0.538410</td>\n",
       "      <td>0.247115</td>\n",
       "      <td>0.288106</td>\n",
       "    </tr>\n",
       "    <tr>\n",
       "      <th>5</th>\n",
       "      <td>0.200778</td>\n",
       "      <td>0.534512</td>\n",
       "      <td>0.223010</td>\n",
       "      <td>0.276900</td>\n",
       "    </tr>\n",
       "  </tbody>\n",
       "</table>\n",
       "</div>"
      ],
      "text/plain": [
       "                entries_share                              \n",
       "                          min       max    median      mean\n",
       "timegroupnbr_19                                            \n",
       "0                    0.032401  0.133136  0.062582  0.070320\n",
       "1                    0.300844  1.039160  0.332948  0.443590\n",
       "2                    0.212956  0.558252  0.246233  0.300215\n",
       "3                    0.199252  0.443464  0.249273  0.274146\n",
       "4                    0.219856  0.538410  0.247115  0.288106\n",
       "5                    0.200778  0.534512  0.223010  0.276900"
      ]
     },
     "execution_count": 18,
     "metadata": {},
     "output_type": "execute_result"
    }
   ],
   "source": [
    "station = 'Sutphin BlvdQueens Blvd'\n",
    "\n",
    "a19 = df19[df19.station_id.eq(station)].copy().reset_index(drop=True)\n",
    "a20 = df20[df20.station_id.eq(station)].copy().reset_index(drop=True)\n",
    "\n",
    "a19.columns = [c + '_19' for c in a19.columns]\n",
    "a20.columns = [c + '_20' for c in a20.columns]\n",
    "\n",
    "achg = pd.concat([a19, a20], axis=1)\n",
    "\n",
    "assert np.all(achg.timegroupnbr_20.eq(achg.timegroupnbr_20))\n",
    "assert np.any(achg.entries_diff_20.notna()) & np.any(achg.entries_diff_19.notna())\n",
    "\n",
    "achg['entries_share'] = achg.entries_diff_20 / achg.entries_diff_19\n",
    "\n",
    "agg = ['min', 'max', 'median', 'mean']\n",
    "xx = achg.groupby('timegroupnbr_19').agg({'entries_share':agg})\n",
    "\n",
    "xx"
   ]
  },
  {
   "cell_type": "code",
   "execution_count": 19,
   "metadata": {},
   "outputs": [
    {
     "data": {
      "image/png": "[encoded data removed]",
      "text/plain": [
       "<Figure size 360x216 with 1 Axes>"
      ]
     },
     "metadata": {
      "needs_background": "light"
     },
     "output_type": "display_data"
    }
   ],
   "source": [
    "fig, ax = plt.subplots(figsize=(5,.5*len(xx)))\n",
    "\n",
    "colors = ['#1fabe3', '#ea1687', '#939291', 'k']\n",
    "\n",
    "for col, c, l in zip(xx, colors, agg):\n",
    "    x = xx[col].values\n",
    "    plt.scatter(x, xx.index, color=c, label=l)\n",
    "    \n",
    "decorate('', '')\n",
    "plt.title(f'Share of entries, 2019-2020, {station}', loc='left', fontsize=11)\n",
    "\n",
    "plt.grid(axis='x')\n",
    "plt.ylim(5.5, -0.5)\n",
    "plt.yticks(ticks=np.arange(6), labels=['12:00AM - 4:00AM', '4:00AM - 8:00AM', '8:00AM - 12:00PM',\n",
    "                   '12:00PM - 4:00PM', '4:00PM - 8:00PM', '8:00PM - 12:00AM'])\n",
    "\n",
    "plt.show();"
   ]
  },
  {
   "cell_type": "markdown",
   "metadata": {},
   "source": [
    "### sutphin blvd - archer av - jfk - archer"
   ]
  },
  {
   "cell_type": "code",
   "execution_count": 20,
   "metadata": {},
   "outputs": [
    {
     "data": {
      "text/html": [
       "<div>\n",
       "<style scoped>\n",
       "    .dataframe tbody tr th:only-of-type {\n",
       "        vertical-align: middle;\n",
       "    }\n",
       "\n",
       "    .dataframe tbody tr th {\n",
       "        vertical-align: top;\n",
       "    }\n",
       "\n",
       "    .dataframe thead tr th {\n",
       "        text-align: left;\n",
       "    }\n",
       "\n",
       "    .dataframe thead tr:last-of-type th {\n",
       "        text-align: right;\n",
       "    }\n",
       "</style>\n",
       "<table border=\"1\" class=\"dataframe\">\n",
       "  <thead>\n",
       "    <tr>\n",
       "      <th></th>\n",
       "      <th colspan=\"4\" halign=\"left\">entries_share</th>\n",
       "    </tr>\n",
       "    <tr>\n",
       "      <th></th>\n",
       "      <th>min</th>\n",
       "      <th>max</th>\n",
       "      <th>median</th>\n",
       "      <th>mean</th>\n",
       "    </tr>\n",
       "    <tr>\n",
       "      <th>timegroupnbr_19</th>\n",
       "      <th></th>\n",
       "      <th></th>\n",
       "      <th></th>\n",
       "      <th></th>\n",
       "    </tr>\n",
       "  </thead>\n",
       "  <tbody>\n",
       "    <tr>\n",
       "      <th>0</th>\n",
       "      <td>0.109541</td>\n",
       "      <td>0.482759</td>\n",
       "      <td>0.356472</td>\n",
       "      <td>0.338874</td>\n",
       "    </tr>\n",
       "    <tr>\n",
       "      <th>1</th>\n",
       "      <td>0.000000</td>\n",
       "      <td>0.339623</td>\n",
       "      <td>0.188978</td>\n",
       "      <td>0.167646</td>\n",
       "    </tr>\n",
       "    <tr>\n",
       "      <th>2</th>\n",
       "      <td>0.209898</td>\n",
       "      <td>1.442667</td>\n",
       "      <td>0.375199</td>\n",
       "      <td>0.532696</td>\n",
       "    </tr>\n",
       "    <tr>\n",
       "      <th>3</th>\n",
       "      <td>0.230189</td>\n",
       "      <td>0.515564</td>\n",
       "      <td>0.293198</td>\n",
       "      <td>0.318211</td>\n",
       "    </tr>\n",
       "    <tr>\n",
       "      <th>4</th>\n",
       "      <td>0.197492</td>\n",
       "      <td>0.478411</td>\n",
       "      <td>0.286314</td>\n",
       "      <td>0.298982</td>\n",
       "    </tr>\n",
       "    <tr>\n",
       "      <th>5</th>\n",
       "      <td>0.137134</td>\n",
       "      <td>0.776699</td>\n",
       "      <td>0.297710</td>\n",
       "      <td>0.339277</td>\n",
       "    </tr>\n",
       "  </tbody>\n",
       "</table>\n",
       "</div>"
      ],
      "text/plain": [
       "                entries_share                              \n",
       "                          min       max    median      mean\n",
       "timegroupnbr_19                                            \n",
       "0                    0.109541  0.482759  0.356472  0.338874\n",
       "1                    0.000000  0.339623  0.188978  0.167646\n",
       "2                    0.209898  1.442667  0.375199  0.532696\n",
       "3                    0.230189  0.515564  0.293198  0.318211\n",
       "4                    0.197492  0.478411  0.286314  0.298982\n",
       "5                    0.137134  0.776699  0.297710  0.339277"
      ]
     },
     "execution_count": 20,
     "metadata": {},
     "output_type": "execute_result"
    }
   ],
   "source": [
    "station = 'Sutphin Blvd - Archer Av - JFK AirportQueens - Archer'\n",
    "\n",
    "a19 = df19[df19.station_id.eq(station)].copy().reset_index(drop=True)\n",
    "a20 = df20[df20.station_id.eq(station)].copy().reset_index(drop=True)\n",
    "\n",
    "a19.columns = [c + '_19' for c in a19.columns]\n",
    "a20.columns = [c + '_20' for c in a20.columns]\n",
    "\n",
    "achg = pd.concat([a19, a20], axis=1)\n",
    "\n",
    "assert np.all(achg.timegroupnbr_20.eq(achg.timegroupnbr_20))\n",
    "assert np.any(achg.entries_diff_20.notna()) & np.any(achg.entries_diff_19.notna())\n",
    "\n",
    "achg['entries_share'] = achg.entries_diff_20 / achg.entries_diff_19\n",
    "\n",
    "agg = ['min', 'max', 'median', 'mean']\n",
    "xx = achg.groupby('timegroupnbr_19').agg({'entries_share':agg})\n",
    "\n",
    "xx"
   ]
  },
  {
   "cell_type": "code",
   "execution_count": 21,
   "metadata": {},
   "outputs": [
    {
     "data": {
      "image/png": "[encoded data removed]",
      "text/plain": [
       "<Figure size 360x216 with 1 Axes>"
      ]
     },
     "metadata": {
      "needs_background": "light"
     },
     "output_type": "display_data"
    }
   ],
   "source": [
    "fig, ax = plt.subplots(figsize=(5,.5*len(xx)))\n",
    "\n",
    "colors = ['#1fabe3', '#ea1687', '#939291', 'k']\n",
    "\n",
    "for col, c, l in zip(xx, colors, agg):\n",
    "    x = xx[col].values\n",
    "    plt.scatter(x, xx.index, color=c, label=l)\n",
    "    \n",
    "decorate('', '')\n",
    "plt.title(f'Share of entries, 2019-2020, {station}', loc='left', fontsize=11)\n",
    "\n",
    "plt.grid(axis='x')\n",
    "plt.ylim(5.5, -0.5)\n",
    "plt.yticks(ticks=np.arange(6), labels=['12:00AM - 4:00AM', '4:00AM - 8:00AM', '8:00AM - 12:00PM',\n",
    "                   '12:00PM - 4:00PM', '4:00PM - 8:00PM', '8:00PM - 12:00AM'])\n",
    "\n",
    "plt.show();"
   ]
  },
  {
   "cell_type": "markdown",
   "metadata": {},
   "source": [
    "### jamaica center"
   ]
  },
  {
   "cell_type": "code",
   "execution_count": 22,
   "metadata": {},
   "outputs": [
    {
     "data": {
      "text/html": [
       "<div>\n",
       "<style scoped>\n",
       "    .dataframe tbody tr th:only-of-type {\n",
       "        vertical-align: middle;\n",
       "    }\n",
       "\n",
       "    .dataframe tbody tr th {\n",
       "        vertical-align: top;\n",
       "    }\n",
       "\n",
       "    .dataframe thead tr th {\n",
       "        text-align: left;\n",
       "    }\n",
       "\n",
       "    .dataframe thead tr:last-of-type th {\n",
       "        text-align: right;\n",
       "    }\n",
       "</style>\n",
       "<table border=\"1\" class=\"dataframe\">\n",
       "  <thead>\n",
       "    <tr>\n",
       "      <th></th>\n",
       "      <th colspan=\"4\" halign=\"left\">entries_share</th>\n",
       "    </tr>\n",
       "    <tr>\n",
       "      <th></th>\n",
       "      <th>min</th>\n",
       "      <th>max</th>\n",
       "      <th>median</th>\n",
       "      <th>mean</th>\n",
       "    </tr>\n",
       "    <tr>\n",
       "      <th>timegroupnbr_19</th>\n",
       "      <th></th>\n",
       "      <th></th>\n",
       "      <th></th>\n",
       "      <th></th>\n",
       "    </tr>\n",
       "  </thead>\n",
       "  <tbody>\n",
       "    <tr>\n",
       "      <th>0</th>\n",
       "      <td>0.057644</td>\n",
       "      <td>0.215768</td>\n",
       "      <td>0.103740</td>\n",
       "      <td>0.121820</td>\n",
       "    </tr>\n",
       "    <tr>\n",
       "      <th>1</th>\n",
       "      <td>0.528960</td>\n",
       "      <td>1.644096</td>\n",
       "      <td>1.154156</td>\n",
       "      <td>1.141481</td>\n",
       "    </tr>\n",
       "    <tr>\n",
       "      <th>2</th>\n",
       "      <td>0.349691</td>\n",
       "      <td>0.830538</td>\n",
       "      <td>0.575903</td>\n",
       "      <td>0.583101</td>\n",
       "    </tr>\n",
       "    <tr>\n",
       "      <th>3</th>\n",
       "      <td>0.343509</td>\n",
       "      <td>0.860177</td>\n",
       "      <td>0.685519</td>\n",
       "      <td>0.695577</td>\n",
       "    </tr>\n",
       "    <tr>\n",
       "      <th>4</th>\n",
       "      <td>0.357673</td>\n",
       "      <td>0.955378</td>\n",
       "      <td>0.789124</td>\n",
       "      <td>0.716196</td>\n",
       "    </tr>\n",
       "    <tr>\n",
       "      <th>5</th>\n",
       "      <td>0.194660</td>\n",
       "      <td>1.247039</td>\n",
       "      <td>0.343062</td>\n",
       "      <td>0.464189</td>\n",
       "    </tr>\n",
       "  </tbody>\n",
       "</table>\n",
       "</div>"
      ],
      "text/plain": [
       "                entries_share                              \n",
       "                          min       max    median      mean\n",
       "timegroupnbr_19                                            \n",
       "0                    0.057644  0.215768  0.103740  0.121820\n",
       "1                    0.528960  1.644096  1.154156  1.141481\n",
       "2                    0.349691  0.830538  0.575903  0.583101\n",
       "3                    0.343509  0.860177  0.685519  0.695577\n",
       "4                    0.357673  0.955378  0.789124  0.716196\n",
       "5                    0.194660  1.247039  0.343062  0.464189"
      ]
     },
     "execution_count": 22,
     "metadata": {},
     "output_type": "execute_result"
    }
   ],
   "source": [
    "station = 'Jamaica Center - Parsons/ArcherQueens - Archer'\n",
    "\n",
    "a19 = df19[df19.station_id.eq(station)].copy().reset_index(drop=True)\n",
    "a20 = df20[df20.station_id.eq(station)].copy().reset_index(drop=True)\n",
    "\n",
    "a19.columns = [c + '_19' for c in a19.columns]\n",
    "a20.columns = [c + '_20' for c in a20.columns]\n",
    "\n",
    "achg = pd.concat([a19, a20], axis=1)\n",
    "\n",
    "assert np.all(achg.timegroupnbr_20.eq(achg.timegroupnbr_20))\n",
    "assert np.any(achg.entries_diff_20.notna()) & np.any(achg.entries_diff_19.notna())\n",
    "\n",
    "achg['entries_share'] = achg.entries_diff_20 / achg.entries_diff_19\n",
    "\n",
    "agg = ['min', 'max', 'median', 'mean']\n",
    "xx = achg.groupby('timegroupnbr_19').agg({'entries_share':agg})\n",
    "\n",
    "xx"
   ]
  },
  {
   "cell_type": "code",
   "execution_count": 23,
   "metadata": {},
   "outputs": [
    {
     "data": {
      "image/png": "[encoded data removed]",
      "text/plain": [
       "<Figure size 360x216 with 1 Axes>"
      ]
     },
     "metadata": {
      "needs_background": "light"
     },
     "output_type": "display_data"
    }
   ],
   "source": [
    "fig, ax = plt.subplots(figsize=(5,.5*len(xx)))\n",
    "\n",
    "colors = ['#1fabe3', '#ea1687', '#939291', 'k']\n",
    "\n",
    "for col, c, l in zip(xx, colors, agg):\n",
    "    x = xx[col].values\n",
    "    plt.scatter(x, xx.index, color=c, label=l)\n",
    "    \n",
    "decorate('', '')\n",
    "plt.title(f'Share of entries, 2019-2020, {station}', loc='left', fontsize=11)\n",
    "\n",
    "plt.grid(axis='x')\n",
    "plt.ylim(5.5, -0.5)\n",
    "plt.yticks(ticks=np.arange(6), labels=['12:00AM - 4:00AM', '4:00AM - 8:00AM', '8:00AM - 12:00PM',\n",
    "                   '12:00PM - 4:00PM', '4:00PM - 8:00PM', '8:00PM - 12:00AM'])\n",
    "\n",
    "plt.show();"
   ]
  },
  {
   "cell_type": "markdown",
   "metadata": {},
   "source": [
    "## takeaways\n",
    "\n",
    "The data suggest three major takeaways:\n",
    "1. Overall ridership across the three stations is way down, at **about 56% of 2019's ridership.**\n",
    "    1. 31% at Jamaica Center\n",
    "    2. 72% at Sutphin Blvd / Queens Blvd.\n",
    "    3. 68% at Sutphin Blvd / Archer Ave\n",
    "    \n",
    "    \n",
    "2. In the two week period of study in 2020, the **overall trend in ridership is flat at all three stations** with no signs of a recent increase.\n",
    "\n",
    "\n",
    "3. While overall ridership is down, **ridership during the early morning peak (4AM - 8AM) has decreased less, about 42% on average compared to an overall decline of 56%.** One hypothesis for this is that ridership among essential workers (who might need to get up early) is robust.\n",
    "    1. At Jamaica Center, ridership between 4AM and 8AM is up about 15% compared to 2019, compared to the overall decline of 31%.\n",
    "    2. At Sutphin Blvd / Queens Blvd, ridership between 4AM and 8AM is down about 55% compared to 2019, compared to 72% overall.\n",
    "    3. This trend does not appear to be true at Sutphin Blvd / Archer Ave / JFK, however, where ridership between 4AM and 8AM is down 82% compared to 68% overall."
   ]
  },
  {
   "cell_type": "code",
   "execution_count": null,
   "metadata": {},
   "outputs": [],
   "source": []
  }
 ],
 "metadata": {
  "kernelspec": {
   "display_name": "Python 3",
   "language": "python",
   "name": "python3"
  },
  "language_info": {
   "codemirror_mode": {
    "name": "ipython",
    "version": 3
   },
   "file_extension": ".py",
   "mimetype": "text/x-python",
   "name": "python",
   "nbconvert_exporter": "python",
   "pygments_lexer": "ipython3",
   "version": "3.7.3"
  },
  "toc": {
   "base_numbering": 1,
   "nav_menu": {},
   "number_sections": true,
   "sideBar": true,
   "skip_h1_title": true,
   "title_cell": "Table of Contents",
   "title_sidebar": "nav",
   "toc_cell": false,
   "toc_position": {
    "height": "calc(100% - 180px)",
    "left": "10px",
    "top": "150px",
    "width": "331px"
   },
   "toc_section_display": true,
   "toc_window_display": true
  },
  "varInspector": {
   "cols": {
    "lenName": 16,
    "lenType": 16,
    "lenVar": 40
   },
   "kernels_config": {
    "python": {
     "delete_cmd_postfix": "",
     "delete_cmd_prefix": "del ",
     "library": "var_list.py",
     "varRefreshCmd": "print(var_dic_list())"
    },
    "r": {
     "delete_cmd_postfix": ") ",
     "delete_cmd_prefix": "rm(",
     "library": "var_list.r",
     "varRefreshCmd": "cat(var_dic_list()) "
    }
   },
   "types_to_exclude": [
    "module",
    "function",
    "builtin_function_or_method",
    "instance",
    "_Feature"
   ],
   "window_display": false
  }
 },
 "nbformat": 4,
 "nbformat_minor": 2
}
