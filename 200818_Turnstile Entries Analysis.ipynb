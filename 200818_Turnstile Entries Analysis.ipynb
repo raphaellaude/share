{
 "cells": [
  {
   "cell_type": "code",
   "execution_count": 1,
   "metadata": {},
   "outputs": [],
   "source": [
    "import pandas as pd, geopandas as gpd, numpy as np, matplotlib.pyplot as plt\n",
    "from os.path import join\n",
    "\n",
    "pd.set_option('display.max_columns', 50)\n",
    "plt.rcParams['pdf.fonttype'] = 'truetype'"
   ]
  },
  {
   "cell_type": "markdown",
   "metadata": {},
   "source": [
    "## helpers"
   ]
  },
  {
   "cell_type": "code",
   "execution_count": 2,
   "metadata": {},
   "outputs": [],
   "source": [
    "def decorate(xl, yl):\n",
    "    plt.xlabel(xl)\n",
    "    plt.ylabel(yl)\n",
    "    plt.box(None)\n",
    "    plt.legend(bbox_to_anchor=(1,.5), loc='center left', frameon=False)"
   ]
  },
  {
   "cell_type": "markdown",
   "metadata": {},
   "source": [
    "## load data"
   ]
  },
  {
   "cell_type": "code",
   "execution_count": 3,
   "metadata": {},
   "outputs": [],
   "source": [
    "turn = pd.read_csv(r\"M:\\NYSERDA_Ignition Grant 19041\\03_GIS+ANALYSIS\\01_DATA\\station_vol_by_hour_200818.csv\")"
   ]
  },
  {
   "cell_type": "code",
   "execution_count": 4,
   "metadata": {},
   "outputs": [
    {
     "data": {
      "text/plain": [
       "(71836, 7)"
      ]
     },
     "execution_count": 4,
     "metadata": {},
     "output_type": "execute_result"
    }
   ],
   "source": [
    "turn.shape"
   ]
  },
  {
   "cell_type": "code",
   "execution_count": 5,
   "metadata": {},
   "outputs": [
    {
     "data": {
      "text/html": [
       "<div>\n",
       "<style scoped>\n",
       "    .dataframe tbody tr th:only-of-type {\n",
       "        vertical-align: middle;\n",
       "    }\n",
       "\n",
       "    .dataframe tbody tr th {\n",
       "        vertical-align: top;\n",
       "    }\n",
       "\n",
       "    .dataframe thead th {\n",
       "        text-align: right;\n",
       "    }\n",
       "</style>\n",
       "<table border=\"1\" class=\"dataframe\">\n",
       "  <thead>\n",
       "    <tr style=\"text-align: right;\">\n",
       "      <th></th>\n",
       "      <th>station_id</th>\n",
       "      <th>GTFS Latitude</th>\n",
       "      <th>GTFS Longitude</th>\n",
       "      <th>wkdaynbr</th>\n",
       "      <th>timegroupstr</th>\n",
       "      <th>date</th>\n",
       "      <th>entries_diff</th>\n",
       "    </tr>\n",
       "  </thead>\n",
       "  <tbody>\n",
       "    <tr>\n",
       "      <th>18396</th>\n",
       "      <td>Houston StBroadway - 7Av</td>\n",
       "      <td>40.728251</td>\n",
       "      <td>-74.005367</td>\n",
       "      <td>3</td>\n",
       "      <td>4pm - 8pm</td>\n",
       "      <td>08/05/2020</td>\n",
       "      <td>963.0</td>\n",
       "    </tr>\n",
       "    <tr>\n",
       "      <th>7558</th>\n",
       "      <td>51 StLexington Av</td>\n",
       "      <td>40.757107</td>\n",
       "      <td>-73.971920</td>\n",
       "      <td>2</td>\n",
       "      <td>8pm - 12am</td>\n",
       "      <td>07/24/2018</td>\n",
       "      <td>2079.0</td>\n",
       "    </tr>\n",
       "    <tr>\n",
       "      <th>21584</th>\n",
       "      <td>Beach 36 StRockaway</td>\n",
       "      <td>40.595398</td>\n",
       "      <td>-73.768175</td>\n",
       "      <td>3</td>\n",
       "      <td>8am - 12pm</td>\n",
       "      <td>07/25/2018</td>\n",
       "      <td>804.0</td>\n",
       "    </tr>\n",
       "    <tr>\n",
       "      <th>33849</th>\n",
       "      <td>3 Av - 149 StLenox - White Plains Rd</td>\n",
       "      <td>40.816109</td>\n",
       "      <td>-73.917757</td>\n",
       "      <td>0</td>\n",
       "      <td>4am - 8am</td>\n",
       "      <td>07/26/2020</td>\n",
       "      <td>423.0</td>\n",
       "    </tr>\n",
       "    <tr>\n",
       "      <th>19081</th>\n",
       "      <td>Clinton - Washington AvsCrosstown</td>\n",
       "      <td>40.688089</td>\n",
       "      <td>-73.966839</td>\n",
       "      <td>1</td>\n",
       "      <td>4pm - 8pm</td>\n",
       "      <td>07/30/2018</td>\n",
       "      <td>923.0</td>\n",
       "    </tr>\n",
       "    <tr>\n",
       "      <th>27285</th>\n",
       "      <td>Seneca AvMyrtle Av</td>\n",
       "      <td>40.702762</td>\n",
       "      <td>-73.907740</td>\n",
       "      <td>1</td>\n",
       "      <td>12pm - 4pm</td>\n",
       "      <td>07/30/2018</td>\n",
       "      <td>591.0</td>\n",
       "    </tr>\n",
       "    <tr>\n",
       "      <th>2314</th>\n",
       "      <td>Jamaica - 179 StQueens Blvd</td>\n",
       "      <td>40.712646</td>\n",
       "      <td>-73.783817</td>\n",
       "      <td>4</td>\n",
       "      <td>4am - 8am</td>\n",
       "      <td>08/02/2018</td>\n",
       "      <td>4140.0</td>\n",
       "    </tr>\n",
       "    <tr>\n",
       "      <th>52971</th>\n",
       "      <td>Broadway-Lafayette St6th Av - Culver</td>\n",
       "      <td>40.725297</td>\n",
       "      <td>-73.996204</td>\n",
       "      <td>4</td>\n",
       "      <td>8am - 12pm</td>\n",
       "      <td>08/06/2020</td>\n",
       "      <td>131.0</td>\n",
       "    </tr>\n",
       "    <tr>\n",
       "      <th>25092</th>\n",
       "      <td>86 St4th Av</td>\n",
       "      <td>40.622687</td>\n",
       "      <td>-74.028398</td>\n",
       "      <td>3</td>\n",
       "      <td>8pm - 12am</td>\n",
       "      <td>08/01/2018</td>\n",
       "      <td>666.0</td>\n",
       "    </tr>\n",
       "    <tr>\n",
       "      <th>19332</th>\n",
       "      <td>125 StBroadway - 7Av</td>\n",
       "      <td>40.815581</td>\n",
       "      <td>-73.958372</td>\n",
       "      <td>6</td>\n",
       "      <td>8am - 12pm</td>\n",
       "      <td>07/25/2020</td>\n",
       "      <td>911.0</td>\n",
       "    </tr>\n",
       "  </tbody>\n",
       "</table>\n",
       "</div>"
      ],
      "text/plain": [
       "                                 station_id  GTFS Latitude  GTFS Longitude  \\\n",
       "18396              Houston StBroadway - 7Av      40.728251      -74.005367   \n",
       "7558                      51 StLexington Av      40.757107      -73.971920   \n",
       "21584                   Beach 36 StRockaway      40.595398      -73.768175   \n",
       "33849  3 Av - 149 StLenox - White Plains Rd      40.816109      -73.917757   \n",
       "19081     Clinton - Washington AvsCrosstown      40.688089      -73.966839   \n",
       "27285                    Seneca AvMyrtle Av      40.702762      -73.907740   \n",
       "2314            Jamaica - 179 StQueens Blvd      40.712646      -73.783817   \n",
       "52971  Broadway-Lafayette St6th Av - Culver      40.725297      -73.996204   \n",
       "25092                           86 St4th Av      40.622687      -74.028398   \n",
       "19332                  125 StBroadway - 7Av      40.815581      -73.958372   \n",
       "\n",
       "       wkdaynbr timegroupstr        date  entries_diff  \n",
       "18396         3    4pm - 8pm  08/05/2020         963.0  \n",
       "7558          2   8pm - 12am  07/24/2018        2079.0  \n",
       "21584         3   8am - 12pm  07/25/2018         804.0  \n",
       "33849         0    4am - 8am  07/26/2020         423.0  \n",
       "19081         1    4pm - 8pm  07/30/2018         923.0  \n",
       "27285         1   12pm - 4pm  07/30/2018         591.0  \n",
       "2314          4    4am - 8am  08/02/2018        4140.0  \n",
       "52971         4   8am - 12pm  08/06/2020         131.0  \n",
       "25092         3   8pm - 12am  08/01/2018         666.0  \n",
       "19332         6   8am - 12pm  07/25/2020         911.0  "
      ]
     },
     "execution_count": 5,
     "metadata": {},
     "output_type": "execute_result"
    }
   ],
   "source": [
    "turn.sample(10)"
   ]
  },
  {
   "cell_type": "markdown",
   "metadata": {},
   "source": [
    "## prep data"
   ]
  },
  {
   "cell_type": "code",
   "execution_count": 6,
   "metadata": {},
   "outputs": [],
   "source": [
    "# Datetime format for sorting / time-series analysis\n",
    "turn['dt'] = pd.to_datetime(turn.date)"
   ]
  },
  {
   "cell_type": "code",
   "execution_count": 7,
   "metadata": {},
   "outputs": [],
   "source": [
    "# recode time group as int for sorting / time-series analysis\n",
    "\n",
    "time_map = {\n",
    "    '8pm - 12am':5,\n",
    "    '12pm - 4pm':3,\n",
    "    '4pm - 8pm':4,\n",
    "    '8am - 12pm':2,\n",
    "    '4am - 8am':1,\n",
    "    '12am - 4am':0}\n",
    "\n",
    "turn['timegroupnbr'] = turn.timegroupstr.map(time_map)\n",
    "\n",
    "assert turn.timegroupnbr.isna().sum() == 0"
   ]
  },
  {
   "cell_type": "markdown",
   "metadata": {},
   "source": [
    "## filter and dissagregate"
   ]
  },
  {
   "cell_type": "code",
   "execution_count": 8,
   "metadata": {},
   "outputs": [],
   "source": [
    "stops = [\n",
    "    'Jamaica Center - Parsons/ArcherQueens - Archer',\n",
    "    'Sutphin Blvd - Archer Av - JFK AirportQueens - Archer',\n",
    "    'Sutphin BlvdQueens Blvd']"
   ]
  },
  {
   "cell_type": "code",
   "execution_count": 9,
   "metadata": {},
   "outputs": [
    {
     "data": {
      "text/plain": [
       "498"
      ]
     },
     "execution_count": 9,
     "metadata": {},
     "output_type": "execute_result"
    }
   ],
   "source": [
    "turn.station_id.isin(stops).sum()"
   ]
  },
  {
   "cell_type": "code",
   "execution_count": 10,
   "metadata": {},
   "outputs": [
    {
     "data": {
      "text/plain": [
       "51930"
      ]
     },
     "execution_count": 10,
     "metadata": {},
     "output_type": "execute_result"
    }
   ],
   "source": [
    "(~turn.wkdaynbr.isin([5, 6])).sum()"
   ]
  },
  {
   "cell_type": "code",
   "execution_count": 11,
   "metadata": {},
   "outputs": [
    {
     "data": {
      "text/plain": [
       "180"
      ]
     },
     "execution_count": 11,
     "metadata": {},
     "output_type": "execute_result"
    }
   ],
   "source": [
    "(turn.station_id.isin(stops) & ~turn.wkdaynbr.isin([5, 6]) & turn.dt.dt.year.eq(2018)).sum()"
   ]
  },
  {
   "cell_type": "code",
   "execution_count": 12,
   "metadata": {},
   "outputs": [
    {
     "data": {
      "text/plain": [
       "2020    36372\n",
       "2018    35464\n",
       "Name: dt, dtype: int64"
      ]
     },
     "execution_count": 12,
     "metadata": {},
     "output_type": "execute_result"
    }
   ],
   "source": [
    "turn.dt.dt.year.value_counts()"
   ]
  },
  {
   "cell_type": "code",
   "execution_count": 13,
   "metadata": {},
   "outputs": [
    {
     "data": {
      "text/html": [
       "<div>\n",
       "<style scoped>\n",
       "    .dataframe tbody tr th:only-of-type {\n",
       "        vertical-align: middle;\n",
       "    }\n",
       "\n",
       "    .dataframe tbody tr th {\n",
       "        vertical-align: top;\n",
       "    }\n",
       "\n",
       "    .dataframe thead th {\n",
       "        text-align: right;\n",
       "    }\n",
       "</style>\n",
       "<table border=\"1\" class=\"dataframe\">\n",
       "  <thead>\n",
       "    <tr style=\"text-align: right;\">\n",
       "      <th></th>\n",
       "      <th>station_id</th>\n",
       "      <th>dt</th>\n",
       "      <th>timegroupnbr</th>\n",
       "      <th>entries_diff</th>\n",
       "    </tr>\n",
       "  </thead>\n",
       "  <tbody>\n",
       "    <tr>\n",
       "      <th>4</th>\n",
       "      <td>Jamaica Center - Parsons/ArcherQueens - Archer</td>\n",
       "      <td>2018-07-22</td>\n",
       "      <td>4</td>\n",
       "      <td>2686.0</td>\n",
       "    </tr>\n",
       "    <tr>\n",
       "      <th>57</th>\n",
       "      <td>Jamaica Center - Parsons/ArcherQueens - Archer</td>\n",
       "      <td>2018-08-02</td>\n",
       "      <td>3</td>\n",
       "      <td>3060.0</td>\n",
       "    </tr>\n",
       "    <tr>\n",
       "      <th>80</th>\n",
       "      <td>Sutphin Blvd - Archer Av - JFK AirportQueens -...</td>\n",
       "      <td>2018-07-25</td>\n",
       "      <td>2</td>\n",
       "      <td>1476.0</td>\n",
       "    </tr>\n",
       "    <tr>\n",
       "      <th>172</th>\n",
       "      <td>Sutphin BlvdQueens Blvd</td>\n",
       "      <td>2018-08-01</td>\n",
       "      <td>4</td>\n",
       "      <td>5327.0</td>\n",
       "    </tr>\n",
       "    <tr>\n",
       "      <th>18</th>\n",
       "      <td>Jamaica Center - Parsons/ArcherQueens - Archer</td>\n",
       "      <td>2018-07-25</td>\n",
       "      <td>0</td>\n",
       "      <td>471.0</td>\n",
       "    </tr>\n",
       "  </tbody>\n",
       "</table>\n",
       "</div>"
      ],
      "text/plain": [
       "                                            station_id         dt  \\\n",
       "4       Jamaica Center - Parsons/ArcherQueens - Archer 2018-07-22   \n",
       "57      Jamaica Center - Parsons/ArcherQueens - Archer 2018-08-02   \n",
       "80   Sutphin Blvd - Archer Av - JFK AirportQueens -... 2018-07-25   \n",
       "172                            Sutphin BlvdQueens Blvd 2018-08-01   \n",
       "18      Jamaica Center - Parsons/ArcherQueens - Archer 2018-07-25   \n",
       "\n",
       "     timegroupnbr  entries_diff  \n",
       "4               4        2686.0  \n",
       "57              3        3060.0  \n",
       "80              2        1476.0  \n",
       "172             4        5327.0  \n",
       "18              0         471.0  "
      ]
     },
     "execution_count": 13,
     "metadata": {},
     "output_type": "execute_result"
    }
   ],
   "source": [
    "filt = turn.station_id.isin(stops) & ~turn.wkdaynbr.isin([5, 6])\n",
    "\n",
    "group_cols = ['station_id', 'dt', 'timegroupnbr']\n",
    "agg = {'entries_diff':'sum'}\n",
    "\n",
    "df18 = turn[filt & turn.dt.dt.year.eq(2018)]\\\n",
    "    .groupby(group_cols).agg(agg).reset_index()\n",
    "df20 = turn[filt & turn.dt.dt.year.eq(2020)]\\\n",
    "    .groupby(group_cols).agg(agg).reset_index()\n",
    "\n",
    "df18.sample(5)"
   ]
  },
  {
   "cell_type": "code",
   "execution_count": 14,
   "metadata": {},
   "outputs": [
    {
     "data": {
      "text/html": [
       "<div>\n",
       "<style scoped>\n",
       "    .dataframe tbody tr th:only-of-type {\n",
       "        vertical-align: middle;\n",
       "    }\n",
       "\n",
       "    .dataframe tbody tr th {\n",
       "        vertical-align: top;\n",
       "    }\n",
       "\n",
       "    .dataframe thead th {\n",
       "        text-align: right;\n",
       "    }\n",
       "</style>\n",
       "<table border=\"1\" class=\"dataframe\">\n",
       "  <thead>\n",
       "    <tr style=\"text-align: right;\">\n",
       "      <th></th>\n",
       "      <th>station_id</th>\n",
       "      <th>dt</th>\n",
       "      <th>timegroupnbr</th>\n",
       "      <th>entries_diff</th>\n",
       "    </tr>\n",
       "  </thead>\n",
       "  <tbody>\n",
       "    <tr>\n",
       "      <th>6</th>\n",
       "      <td>Jamaica Center - Parsons/ArcherQueens - Archer</td>\n",
       "      <td>2020-07-27</td>\n",
       "      <td>0</td>\n",
       "      <td>44.0</td>\n",
       "    </tr>\n",
       "    <tr>\n",
       "      <th>163</th>\n",
       "      <td>Sutphin BlvdQueens Blvd</td>\n",
       "      <td>2020-08-04</td>\n",
       "      <td>1</td>\n",
       "      <td>1919.0</td>\n",
       "    </tr>\n",
       "    <tr>\n",
       "      <th>16</th>\n",
       "      <td>Jamaica Center - Parsons/ArcherQueens - Archer</td>\n",
       "      <td>2020-07-28</td>\n",
       "      <td>4</td>\n",
       "      <td>1860.0</td>\n",
       "    </tr>\n",
       "    <tr>\n",
       "      <th>22</th>\n",
       "      <td>Jamaica Center - Parsons/ArcherQueens - Archer</td>\n",
       "      <td>2020-07-29</td>\n",
       "      <td>4</td>\n",
       "      <td>1983.0</td>\n",
       "    </tr>\n",
       "    <tr>\n",
       "      <th>108</th>\n",
       "      <td>Sutphin Blvd - Archer Av - JFK AirportQueens -...</td>\n",
       "      <td>2020-08-05</td>\n",
       "      <td>0</td>\n",
       "      <td>48.0</td>\n",
       "    </tr>\n",
       "    <tr>\n",
       "      <th>15</th>\n",
       "      <td>Jamaica Center - Parsons/ArcherQueens - Archer</td>\n",
       "      <td>2020-07-28</td>\n",
       "      <td>3</td>\n",
       "      <td>1833.0</td>\n",
       "    </tr>\n",
       "    <tr>\n",
       "      <th>67</th>\n",
       "      <td>Sutphin Blvd - Archer Av - JFK AirportQueens -...</td>\n",
       "      <td>2020-07-27</td>\n",
       "      <td>1</td>\n",
       "      <td>13.0</td>\n",
       "    </tr>\n",
       "    <tr>\n",
       "      <th>175</th>\n",
       "      <td>Sutphin BlvdQueens Blvd</td>\n",
       "      <td>2020-08-06</td>\n",
       "      <td>1</td>\n",
       "      <td>2026.0</td>\n",
       "    </tr>\n",
       "    <tr>\n",
       "      <th>134</th>\n",
       "      <td>Sutphin BlvdQueens Blvd</td>\n",
       "      <td>2020-07-28</td>\n",
       "      <td>2</td>\n",
       "      <td>1342.0</td>\n",
       "    </tr>\n",
       "    <tr>\n",
       "      <th>91</th>\n",
       "      <td>Sutphin Blvd - Archer Av - JFK AirportQueens -...</td>\n",
       "      <td>2020-08-02</td>\n",
       "      <td>1</td>\n",
       "      <td>3.0</td>\n",
       "    </tr>\n",
       "  </tbody>\n",
       "</table>\n",
       "</div>"
      ],
      "text/plain": [
       "                                            station_id         dt  \\\n",
       "6       Jamaica Center - Parsons/ArcherQueens - Archer 2020-07-27   \n",
       "163                            Sutphin BlvdQueens Blvd 2020-08-04   \n",
       "16      Jamaica Center - Parsons/ArcherQueens - Archer 2020-07-28   \n",
       "22      Jamaica Center - Parsons/ArcherQueens - Archer 2020-07-29   \n",
       "108  Sutphin Blvd - Archer Av - JFK AirportQueens -... 2020-08-05   \n",
       "15      Jamaica Center - Parsons/ArcherQueens - Archer 2020-07-28   \n",
       "67   Sutphin Blvd - Archer Av - JFK AirportQueens -... 2020-07-27   \n",
       "175                            Sutphin BlvdQueens Blvd 2020-08-06   \n",
       "134                            Sutphin BlvdQueens Blvd 2020-07-28   \n",
       "91   Sutphin Blvd - Archer Av - JFK AirportQueens -... 2020-08-02   \n",
       "\n",
       "     timegroupnbr  entries_diff  \n",
       "6               0          44.0  \n",
       "163             1        1919.0  \n",
       "16              4        1860.0  \n",
       "22              4        1983.0  \n",
       "108             0          48.0  \n",
       "15              3        1833.0  \n",
       "67              1          13.0  \n",
       "175             1        2026.0  \n",
       "134             2        1342.0  \n",
       "91              1           3.0  "
      ]
     },
     "execution_count": 14,
     "metadata": {},
     "output_type": "execute_result"
    }
   ],
   "source": [
    "df20.sample(10)"
   ]
  },
  {
   "cell_type": "markdown",
   "metadata": {},
   "source": [
    "## ridership trend"
   ]
  },
  {
   "cell_type": "markdown",
   "metadata": {},
   "source": [
    "### overall"
   ]
  },
  {
   "cell_type": "code",
   "execution_count": 15,
   "metadata": {},
   "outputs": [
    {
     "data": {
      "text/plain": [
       "'Ridership is down 57.7% overall'"
      ]
     },
     "execution_count": 15,
     "metadata": {},
     "output_type": "execute_result"
    }
   ],
   "source": [
    "f'Ridership is down {np.round((1 - df20.entries_diff.sum() / df18.entries_diff.sum()) * 100, 1)}% overall'"
   ]
  },
  {
   "cell_type": "code",
   "execution_count": 16,
   "metadata": {},
   "outputs": [
    {
     "data": {
      "text/html": [
       "<div>\n",
       "<style scoped>\n",
       "    .dataframe tbody tr th:only-of-type {\n",
       "        vertical-align: middle;\n",
       "    }\n",
       "\n",
       "    .dataframe tbody tr th {\n",
       "        vertical-align: top;\n",
       "    }\n",
       "\n",
       "    .dataframe thead th {\n",
       "        text-align: right;\n",
       "    }\n",
       "</style>\n",
       "<table border=\"1\" class=\"dataframe\">\n",
       "  <thead>\n",
       "    <tr style=\"text-align: right;\">\n",
       "      <th></th>\n",
       "      <th>entries_diff</th>\n",
       "    </tr>\n",
       "    <tr>\n",
       "      <th>station_id</th>\n",
       "      <th></th>\n",
       "    </tr>\n",
       "  </thead>\n",
       "  <tbody>\n",
       "    <tr>\n",
       "      <th>Jamaica Center - Parsons/ArcherQueens - Archer</th>\n",
       "      <td>0.36</td>\n",
       "    </tr>\n",
       "    <tr>\n",
       "      <th>Sutphin Blvd - Archer Av - JFK AirportQueens - Archer</th>\n",
       "      <td>0.65</td>\n",
       "    </tr>\n",
       "    <tr>\n",
       "      <th>Sutphin BlvdQueens Blvd</th>\n",
       "      <td>0.72</td>\n",
       "    </tr>\n",
       "  </tbody>\n",
       "</table>\n",
       "</div>"
      ],
      "text/plain": [
       "                                                    entries_diff\n",
       "station_id                                                      \n",
       "Jamaica Center - Parsons/ArcherQueens - Archer              0.36\n",
       "Sutphin Blvd - Archer Av - JFK AirportQueens - ...          0.65\n",
       "Sutphin BlvdQueens Blvd                                     0.72"
      ]
     },
     "execution_count": 16,
     "metadata": {},
     "output_type": "execute_result"
    }
   ],
   "source": [
    "1 - \\\n",
    "df20.groupby('station_id').agg({'entries_diff':'sum'}).div(\n",
    "    df18.groupby('station_id').agg({'entries_diff':'sum'}))\\\n",
    "    .round(2)"
   ]
  },
  {
   "cell_type": "code",
   "execution_count": 17,
   "metadata": {},
   "outputs": [
    {
     "data": {
      "image/png": "[encoded data removed]",
      "text/plain": [
       "<Figure size 576x288 with 1 Axes>"
      ]
     },
     "metadata": {
      "needs_background": "light"
     },
     "output_type": "display_data"
    }
   ],
   "source": [
    "fig, ax = plt.subplots(figsize=(8,4))\n",
    "\n",
    "station = 'all three stations'\n",
    "\n",
    "a19 = df18.groupby(['dt', 'timegroupnbr']).agg({'entries_diff':'sum'}).reset_index().entries_diff\n",
    "a20 = df20.groupby(['dt', 'timegroupnbr']).agg({'entries_diff':'sum'}).reset_index().entries_diff\n",
    "\n",
    "assert len(a19) == len(a20)\n",
    "\n",
    "x = np.arange(len(a19))\n",
    "\n",
    "ax.bar(x, height=a19.values, color='#e6e7e8', label='2018')\n",
    "ax.bar(x, height=a20.values, color='#ef80b1', label='2020')\n",
    "\n",
    "n = 6\n",
    "\n",
    "a19.rolling(n).mean().plot(color='#939291', label='Daily Moving Average: 2018')\n",
    "a20.rolling(n).mean().plot(color='#ea1687', label='Daily Moving Average: 2020')\n",
    "\n",
    "decorate('Time Group (4hrs)', 'Riders')\n",
    "plt.title(f'Subway ridership at {station}', loc='left', fontsize=11)\n",
    "\n",
    "plt.show();"
   ]
  },
  {
   "cell_type": "markdown",
   "metadata": {},
   "source": [
    "### sutphin blvd - queens blvd"
   ]
  },
  {
   "cell_type": "code",
   "execution_count": 18,
   "metadata": {},
   "outputs": [
    {
     "data": {
      "image/png": "[encoded data removed]",
      "text/plain": [
       "<Figure size 576x288 with 1 Axes>"
      ]
     },
     "metadata": {
      "needs_background": "light"
     },
     "output_type": "display_data"
    }
   ],
   "source": [
    "fig, ax = plt.subplots(figsize=(8,4))\n",
    "\n",
    "station = 'Sutphin BlvdQueens Blvd'\n",
    "\n",
    "a19 = df18[df18.station_id.eq(station)].reset_index(drop=True).entries_diff\n",
    "a20 = df20[df20.station_id.eq(station)].reset_index(drop=True).entries_diff\n",
    "\n",
    "assert len(a19) == len(a20)\n",
    "\n",
    "x = np.arange(len(a19))\n",
    "\n",
    "ax.bar(x, height=a19.values, color='#e6e7e8', label='2018')\n",
    "ax.bar(x, height=a20.values, color='#ef80b1', label='2020')\n",
    "\n",
    "n = 6\n",
    "\n",
    "a19.rolling(n).mean().plot(color='#939291', label='Daily Moving Average: 2018')\n",
    "a20.rolling(n).mean().plot(color='#ea1687', label='Daily Moving Average: 2020')\n",
    "\n",
    "decorate('Time Group (4hrs)', 'Riders')\n",
    "plt.title(f'Subway Ridership at {station}', loc='left', fontsize=11)\n",
    "\n",
    "plt.show();"
   ]
  },
  {
   "cell_type": "markdown",
   "metadata": {},
   "source": [
    "### sutphin blvd - archer av - jfk - archer"
   ]
  },
  {
   "cell_type": "code",
   "execution_count": 19,
   "metadata": {},
   "outputs": [
    {
     "data": {
      "image/png": "[encoded data removed]",
      "text/plain": [
       "<Figure size 576x288 with 1 Axes>"
      ]
     },
     "metadata": {
      "needs_background": "light"
     },
     "output_type": "display_data"
    }
   ],
   "source": [
    "fig, ax = plt.subplots(figsize=(8,4))\n",
    "\n",
    "station = 'Sutphin Blvd - Archer Av - JFK AirportQueens - Archer'\n",
    "\n",
    "a19 = df18[df18.station_id.eq(station)].reset_index(drop=True).entries_diff\n",
    "a20 = df20[df20.station_id.eq(station)].reset_index(drop=True).entries_diff\n",
    "\n",
    "assert len(a19) == len(a20)\n",
    "\n",
    "x = np.arange(len(a19))\n",
    "\n",
    "ax.bar(x, height=a19.values, color='#e6e7e8', label='2018')\n",
    "ax.bar(x, height=a20.values, color='#ef80b1', label='2020')\n",
    "\n",
    "n = 6\n",
    "\n",
    "a19.rolling(n).mean().plot(color='#939291', label='Daily Moving Average: 2018')\n",
    "a20.rolling(n).mean().plot(color='#ea1687', label='Daily Moving Average: 2020')\n",
    "\n",
    "decorate('Time Group (4hrs)', 'Riders')\n",
    "plt.title(f'Subway Ridership at {station}', loc='left', fontsize=11)\n",
    "\n",
    "plt.show();"
   ]
  },
  {
   "cell_type": "markdown",
   "metadata": {},
   "source": [
    "### jamaica center"
   ]
  },
  {
   "cell_type": "code",
   "execution_count": 20,
   "metadata": {},
   "outputs": [
    {
     "data": {
      "image/png": "[encoded data removed]",
      "text/plain": [
       "<Figure size 576x288 with 1 Axes>"
      ]
     },
     "metadata": {
      "needs_background": "light"
     },
     "output_type": "display_data"
    }
   ],
   "source": [
    "fig, ax = plt.subplots(figsize=(8,4))\n",
    "\n",
    "station = 'Jamaica Center - Parsons/ArcherQueens - Archer'\n",
    "\n",
    "a19 = df18[df18.station_id.eq(station)].reset_index(drop=True).entries_diff\n",
    "a20 = df20[df20.station_id.eq(station)].reset_index(drop=True).entries_diff\n",
    "\n",
    "assert len(a19) == len(a20)\n",
    "\n",
    "x = np.arange(len(a19))\n",
    "\n",
    "ax.bar(x, height=a19.values, color='#e6e7e8', label='2018')\n",
    "ax.bar(x, height=a20.values, color='#ef80b1', label='2020')\n",
    "\n",
    "n = 6\n",
    "\n",
    "a19.rolling(n).mean().plot(color='#939291', label='Daily Moving Average: 2018')\n",
    "a20.rolling(n).mean().plot(color='#ea1687', label='Daily Moving Average: 2020')\n",
    "\n",
    "decorate('Time Group (4hrs)', 'Riders')\n",
    "plt.title(f'Subway Ridership at {station}', loc='left', fontsize=11)\n",
    "\n",
    "plt.show();"
   ]
  },
  {
   "cell_type": "markdown",
   "metadata": {},
   "source": [
    "## change in entries by time group"
   ]
  },
  {
   "cell_type": "markdown",
   "metadata": {},
   "source": [
    "### overall"
   ]
  },
  {
   "cell_type": "code",
   "execution_count": 21,
   "metadata": {
    "scrolled": true
   },
   "outputs": [
    {
     "data": {
      "text/html": [
       "<div>\n",
       "<style scoped>\n",
       "    .dataframe tbody tr th:only-of-type {\n",
       "        vertical-align: middle;\n",
       "    }\n",
       "\n",
       "    .dataframe tbody tr th {\n",
       "        vertical-align: top;\n",
       "    }\n",
       "\n",
       "    .dataframe thead tr th {\n",
       "        text-align: left;\n",
       "    }\n",
       "\n",
       "    .dataframe thead tr:last-of-type th {\n",
       "        text-align: right;\n",
       "    }\n",
       "</style>\n",
       "<table border=\"1\" class=\"dataframe\">\n",
       "  <thead>\n",
       "    <tr>\n",
       "      <th></th>\n",
       "      <th colspan=\"4\" halign=\"left\">entries_share</th>\n",
       "    </tr>\n",
       "    <tr>\n",
       "      <th></th>\n",
       "      <th>min</th>\n",
       "      <th>max</th>\n",
       "      <th>median</th>\n",
       "      <th>mean</th>\n",
       "    </tr>\n",
       "    <tr>\n",
       "      <th>timegroupnbr_19</th>\n",
       "      <th></th>\n",
       "      <th></th>\n",
       "      <th></th>\n",
       "      <th></th>\n",
       "    </tr>\n",
       "  </thead>\n",
       "  <tbody>\n",
       "    <tr>\n",
       "      <th>0</th>\n",
       "      <td>0.03</td>\n",
       "      <td>0.48</td>\n",
       "      <td>0.10</td>\n",
       "      <td>0.17</td>\n",
       "    </tr>\n",
       "    <tr>\n",
       "      <th>1</th>\n",
       "      <td>0.04</td>\n",
       "      <td>1.20</td>\n",
       "      <td>0.36</td>\n",
       "      <td>0.51</td>\n",
       "    </tr>\n",
       "    <tr>\n",
       "      <th>2</th>\n",
       "      <td>0.23</td>\n",
       "      <td>0.70</td>\n",
       "      <td>0.39</td>\n",
       "      <td>0.40</td>\n",
       "    </tr>\n",
       "    <tr>\n",
       "      <th>3</th>\n",
       "      <td>0.24</td>\n",
       "      <td>0.70</td>\n",
       "      <td>0.32</td>\n",
       "      <td>0.39</td>\n",
       "    </tr>\n",
       "    <tr>\n",
       "      <th>4</th>\n",
       "      <td>0.22</td>\n",
       "      <td>0.85</td>\n",
       "      <td>0.33</td>\n",
       "      <td>0.40</td>\n",
       "    </tr>\n",
       "    <tr>\n",
       "      <th>5</th>\n",
       "      <td>0.24</td>\n",
       "      <td>0.43</td>\n",
       "      <td>0.33</td>\n",
       "      <td>0.33</td>\n",
       "    </tr>\n",
       "  </tbody>\n",
       "</table>\n",
       "</div>"
      ],
      "text/plain": [
       "                entries_share                   \n",
       "                          min   max median  mean\n",
       "timegroupnbr_19                                 \n",
       "0                        0.03  0.48   0.10  0.17\n",
       "1                        0.04  1.20   0.36  0.51\n",
       "2                        0.23  0.70   0.39  0.40\n",
       "3                        0.24  0.70   0.32  0.39\n",
       "4                        0.22  0.85   0.33  0.40\n",
       "5                        0.24  0.43   0.33  0.33"
      ]
     },
     "execution_count": 21,
     "metadata": {},
     "output_type": "execute_result"
    }
   ],
   "source": [
    "a19 = df18.copy()\n",
    "a19.columns = [c + '_19' for c in a19.columns]\n",
    "\n",
    "a20 = df20.copy()\n",
    "a20.columns = [c + '_20' for c in a20.columns]\n",
    "\n",
    "achg = pd.concat([a19, a20], axis=1)\n",
    "\n",
    "assert np.all(achg.timegroupnbr_20.eq(achg.timegroupnbr_20))\n",
    "assert np.any(achg.entries_diff_20.notna()) & np.any(achg.entries_diff_19.notna())\n",
    "\n",
    "achg['entries_share'] = achg.entries_diff_20 / achg.entries_diff_19\n",
    "\n",
    "agg = ['min', 'max', 'median', 'mean']\n",
    "xx = achg.groupby('timegroupnbr_19').agg({'entries_share':agg})\n",
    "\n",
    "xx.round(2)"
   ]
  },
  {
   "cell_type": "code",
   "execution_count": 22,
   "metadata": {},
   "outputs": [
    {
     "data": {
      "text/html": [
       "<div>\n",
       "<style scoped>\n",
       "    .dataframe tbody tr th:only-of-type {\n",
       "        vertical-align: middle;\n",
       "    }\n",
       "\n",
       "    .dataframe tbody tr th {\n",
       "        vertical-align: top;\n",
       "    }\n",
       "\n",
       "    .dataframe thead tr th {\n",
       "        text-align: left;\n",
       "    }\n",
       "\n",
       "    .dataframe thead tr:last-of-type th {\n",
       "        text-align: right;\n",
       "    }\n",
       "</style>\n",
       "<table border=\"1\" class=\"dataframe\">\n",
       "  <thead>\n",
       "    <tr>\n",
       "      <th></th>\n",
       "      <th colspan=\"4\" halign=\"left\">entries_share</th>\n",
       "    </tr>\n",
       "    <tr>\n",
       "      <th></th>\n",
       "      <th>min</th>\n",
       "      <th>max</th>\n",
       "      <th>median</th>\n",
       "      <th>mean</th>\n",
       "    </tr>\n",
       "    <tr>\n",
       "      <th>timegroupnbr_19</th>\n",
       "      <th></th>\n",
       "      <th></th>\n",
       "      <th></th>\n",
       "      <th></th>\n",
       "    </tr>\n",
       "  </thead>\n",
       "  <tbody>\n",
       "    <tr>\n",
       "      <th>0</th>\n",
       "      <td>0.97</td>\n",
       "      <td>0.52</td>\n",
       "      <td>0.90</td>\n",
       "      <td>0.83</td>\n",
       "    </tr>\n",
       "    <tr>\n",
       "      <th>1</th>\n",
       "      <td>0.96</td>\n",
       "      <td>-0.20</td>\n",
       "      <td>0.64</td>\n",
       "      <td>0.49</td>\n",
       "    </tr>\n",
       "    <tr>\n",
       "      <th>2</th>\n",
       "      <td>0.77</td>\n",
       "      <td>0.30</td>\n",
       "      <td>0.61</td>\n",
       "      <td>0.60</td>\n",
       "    </tr>\n",
       "    <tr>\n",
       "      <th>3</th>\n",
       "      <td>0.76</td>\n",
       "      <td>0.30</td>\n",
       "      <td>0.68</td>\n",
       "      <td>0.61</td>\n",
       "    </tr>\n",
       "    <tr>\n",
       "      <th>4</th>\n",
       "      <td>0.78</td>\n",
       "      <td>0.15</td>\n",
       "      <td>0.67</td>\n",
       "      <td>0.60</td>\n",
       "    </tr>\n",
       "    <tr>\n",
       "      <th>5</th>\n",
       "      <td>0.76</td>\n",
       "      <td>0.57</td>\n",
       "      <td>0.67</td>\n",
       "      <td>0.67</td>\n",
       "    </tr>\n",
       "  </tbody>\n",
       "</table>\n",
       "</div>"
      ],
      "text/plain": [
       "                entries_share                   \n",
       "                          min   max median  mean\n",
       "timegroupnbr_19                                 \n",
       "0                        0.97  0.52   0.90  0.83\n",
       "1                        0.96 -0.20   0.64  0.49\n",
       "2                        0.77  0.30   0.61  0.60\n",
       "3                        0.76  0.30   0.68  0.61\n",
       "4                        0.78  0.15   0.67  0.60\n",
       "5                        0.76  0.57   0.67  0.67"
      ]
     },
     "execution_count": 22,
     "metadata": {},
     "output_type": "execute_result"
    }
   ],
   "source": [
    "(1 - xx).round(2)"
   ]
  },
  {
   "cell_type": "code",
   "execution_count": 23,
   "metadata": {},
   "outputs": [
    {
     "data": {
      "image/png": "[encoded data removed]",
      "text/plain": [
       "<Figure size 432x288 with 1 Axes>"
      ]
     },
     "metadata": {
      "needs_background": "light"
     },
     "output_type": "display_data"
    }
   ],
   "source": [
    "# fig, ax = plt.subplots(figsize=(5,.5*len(xx)))\n",
    "\n",
    "colors = ['#1fabe3', '#ea1687', '#939291', 'k']\n",
    "\n",
    "for col, c, l in zip(xx, colors, agg):\n",
    "    x = xx[col].values\n",
    "    plt.scatter(x, xx.index, color=c, label=l)\n",
    "    \n",
    "decorate('', '')\n",
    "plt.title(f'Share of entries, 2018-2020, all three stations', loc='left', fontsize=11)\n",
    "\n",
    "plt.grid(axis='x')\n",
    "plt.ylim(5.5, -0.5)\n",
    "plt.xlim(0,1.5)\n",
    "plt.yticks(ticks=np.arange(6), labels=['12:00AM - 4:00AM', '4:00AM - 8:00AM', '8:00AM - 12:00PM',\n",
    "                   '12:00PM - 4:00PM', '4:00PM - 8:00PM', '8:00PM - 12:00AM'])\n",
    "\n",
    "plt.show();"
   ]
  },
  {
   "cell_type": "markdown",
   "metadata": {},
   "source": [
    "### sutphin blvd - queens blvd"
   ]
  },
  {
   "cell_type": "code",
   "execution_count": 24,
   "metadata": {},
   "outputs": [
    {
     "data": {
      "text/html": [
       "<div>\n",
       "<style scoped>\n",
       "    .dataframe tbody tr th:only-of-type {\n",
       "        vertical-align: middle;\n",
       "    }\n",
       "\n",
       "    .dataframe tbody tr th {\n",
       "        vertical-align: top;\n",
       "    }\n",
       "\n",
       "    .dataframe thead tr th {\n",
       "        text-align: left;\n",
       "    }\n",
       "\n",
       "    .dataframe thead tr:last-of-type th {\n",
       "        text-align: right;\n",
       "    }\n",
       "</style>\n",
       "<table border=\"1\" class=\"dataframe\">\n",
       "  <thead>\n",
       "    <tr>\n",
       "      <th></th>\n",
       "      <th colspan=\"4\" halign=\"left\">entries_share</th>\n",
       "    </tr>\n",
       "    <tr>\n",
       "      <th></th>\n",
       "      <th>min</th>\n",
       "      <th>max</th>\n",
       "      <th>median</th>\n",
       "      <th>mean</th>\n",
       "    </tr>\n",
       "    <tr>\n",
       "      <th>timegroupnbr_19</th>\n",
       "      <th></th>\n",
       "      <th></th>\n",
       "      <th></th>\n",
       "      <th></th>\n",
       "    </tr>\n",
       "  </thead>\n",
       "  <tbody>\n",
       "    <tr>\n",
       "      <th>0</th>\n",
       "      <td>0.03</td>\n",
       "      <td>0.08</td>\n",
       "      <td>0.05</td>\n",
       "      <td>0.05</td>\n",
       "    </tr>\n",
       "    <tr>\n",
       "      <th>1</th>\n",
       "      <td>0.30</td>\n",
       "      <td>0.38</td>\n",
       "      <td>0.34</td>\n",
       "      <td>0.34</td>\n",
       "    </tr>\n",
       "    <tr>\n",
       "      <th>2</th>\n",
       "      <td>0.23</td>\n",
       "      <td>0.30</td>\n",
       "      <td>0.24</td>\n",
       "      <td>0.26</td>\n",
       "    </tr>\n",
       "    <tr>\n",
       "      <th>3</th>\n",
       "      <td>0.24</td>\n",
       "      <td>0.32</td>\n",
       "      <td>0.28</td>\n",
       "      <td>0.28</td>\n",
       "    </tr>\n",
       "    <tr>\n",
       "      <th>4</th>\n",
       "      <td>0.23</td>\n",
       "      <td>0.29</td>\n",
       "      <td>0.27</td>\n",
       "      <td>0.27</td>\n",
       "    </tr>\n",
       "    <tr>\n",
       "      <th>5</th>\n",
       "      <td>0.24</td>\n",
       "      <td>0.36</td>\n",
       "      <td>0.29</td>\n",
       "      <td>0.29</td>\n",
       "    </tr>\n",
       "  </tbody>\n",
       "</table>\n",
       "</div>"
      ],
      "text/plain": [
       "                entries_share                   \n",
       "                          min   max median  mean\n",
       "timegroupnbr_19                                 \n",
       "0                        0.03  0.08   0.05  0.05\n",
       "1                        0.30  0.38   0.34  0.34\n",
       "2                        0.23  0.30   0.24  0.26\n",
       "3                        0.24  0.32   0.28  0.28\n",
       "4                        0.23  0.29   0.27  0.27\n",
       "5                        0.24  0.36   0.29  0.29"
      ]
     },
     "execution_count": 24,
     "metadata": {},
     "output_type": "execute_result"
    }
   ],
   "source": [
    "station = 'Sutphin BlvdQueens Blvd'\n",
    "\n",
    "a19 = df18[df18.station_id.eq(station)].copy().reset_index(drop=True)\n",
    "a20 = df20[df20.station_id.eq(station)].copy().reset_index(drop=True)\n",
    "\n",
    "a19.columns = [c + '_19' for c in a19.columns]\n",
    "a20.columns = [c + '_20' for c in a20.columns]\n",
    "\n",
    "achg = pd.concat([a19, a20], axis=1)\n",
    "\n",
    "assert np.all(achg.timegroupnbr_20.eq(achg.timegroupnbr_20))\n",
    "assert np.any(achg.entries_diff_20.notna()) & np.any(achg.entries_diff_19.notna())\n",
    "\n",
    "achg['entries_share'] = achg.entries_diff_20 / achg.entries_diff_19\n",
    "\n",
    "agg = ['min', 'max', 'median', 'mean']\n",
    "xx = achg.groupby('timegroupnbr_19').agg({'entries_share':agg})\n",
    "\n",
    "xx.round(2)"
   ]
  },
  {
   "cell_type": "code",
   "execution_count": 25,
   "metadata": {},
   "outputs": [
    {
     "data": {
      "image/png": "[encoded data removed]",
      "text/plain": [
       "<Figure size 360x216 with 1 Axes>"
      ]
     },
     "metadata": {
      "needs_background": "light"
     },
     "output_type": "display_data"
    }
   ],
   "source": [
    "fig, ax = plt.subplots(figsize=(5,.5*len(xx)))\n",
    "\n",
    "colors = ['#1fabe3', '#ea1687', '#939291', 'k']\n",
    "\n",
    "for col, c, l in zip(xx, colors, agg):\n",
    "    x = xx[col].values\n",
    "    plt.scatter(x, xx.index, color=c, label=l)\n",
    "    \n",
    "decorate('', '')\n",
    "plt.title(f'Share of entries, 2018-2020, {station}', loc='left', fontsize=11)\n",
    "\n",
    "plt.grid(axis='x')\n",
    "plt.ylim(5.5, -0.5)\n",
    "plt.xlim(0, 1.5)\n",
    "plt.yticks(ticks=np.arange(6), labels=['12:00AM - 4:00AM', '4:00AM - 8:00AM', '8:00AM - 12:00PM',\n",
    "                   '12:00PM - 4:00PM', '4:00PM - 8:00PM', '8:00PM - 12:00AM'])\n",
    "\n",
    "plt.show();"
   ]
  },
  {
   "cell_type": "markdown",
   "metadata": {},
   "source": [
    "### sutphin blvd - archer av - jfk - archer"
   ]
  },
  {
   "cell_type": "code",
   "execution_count": 26,
   "metadata": {},
   "outputs": [
    {
     "data": {
      "text/html": [
       "<div>\n",
       "<style scoped>\n",
       "    .dataframe tbody tr th:only-of-type {\n",
       "        vertical-align: middle;\n",
       "    }\n",
       "\n",
       "    .dataframe tbody tr th {\n",
       "        vertical-align: top;\n",
       "    }\n",
       "\n",
       "    .dataframe thead tr th {\n",
       "        text-align: left;\n",
       "    }\n",
       "\n",
       "    .dataframe thead tr:last-of-type th {\n",
       "        text-align: right;\n",
       "    }\n",
       "</style>\n",
       "<table border=\"1\" class=\"dataframe\">\n",
       "  <thead>\n",
       "    <tr>\n",
       "      <th></th>\n",
       "      <th colspan=\"4\" halign=\"left\">entries_share</th>\n",
       "    </tr>\n",
       "    <tr>\n",
       "      <th></th>\n",
       "      <th>min</th>\n",
       "      <th>max</th>\n",
       "      <th>median</th>\n",
       "      <th>mean</th>\n",
       "    </tr>\n",
       "    <tr>\n",
       "      <th>timegroupnbr_19</th>\n",
       "      <th></th>\n",
       "      <th></th>\n",
       "      <th></th>\n",
       "      <th></th>\n",
       "    </tr>\n",
       "  </thead>\n",
       "  <tbody>\n",
       "    <tr>\n",
       "      <th>0</th>\n",
       "      <td>0.13</td>\n",
       "      <td>0.48</td>\n",
       "      <td>0.38</td>\n",
       "      <td>0.36</td>\n",
       "    </tr>\n",
       "    <tr>\n",
       "      <th>1</th>\n",
       "      <td>0.04</td>\n",
       "      <td>0.83</td>\n",
       "      <td>0.17</td>\n",
       "      <td>0.24</td>\n",
       "    </tr>\n",
       "    <tr>\n",
       "      <th>2</th>\n",
       "      <td>0.28</td>\n",
       "      <td>0.57</td>\n",
       "      <td>0.39</td>\n",
       "      <td>0.40</td>\n",
       "    </tr>\n",
       "    <tr>\n",
       "      <th>3</th>\n",
       "      <td>0.24</td>\n",
       "      <td>0.38</td>\n",
       "      <td>0.31</td>\n",
       "      <td>0.31</td>\n",
       "    </tr>\n",
       "    <tr>\n",
       "      <th>4</th>\n",
       "      <td>0.22</td>\n",
       "      <td>0.39</td>\n",
       "      <td>0.33</td>\n",
       "      <td>0.31</td>\n",
       "    </tr>\n",
       "    <tr>\n",
       "      <th>5</th>\n",
       "      <td>0.28</td>\n",
       "      <td>0.39</td>\n",
       "      <td>0.33</td>\n",
       "      <td>0.33</td>\n",
       "    </tr>\n",
       "  </tbody>\n",
       "</table>\n",
       "</div>"
      ],
      "text/plain": [
       "                entries_share                   \n",
       "                          min   max median  mean\n",
       "timegroupnbr_19                                 \n",
       "0                        0.13  0.48   0.38  0.36\n",
       "1                        0.04  0.83   0.17  0.24\n",
       "2                        0.28  0.57   0.39  0.40\n",
       "3                        0.24  0.38   0.31  0.31\n",
       "4                        0.22  0.39   0.33  0.31\n",
       "5                        0.28  0.39   0.33  0.33"
      ]
     },
     "execution_count": 26,
     "metadata": {},
     "output_type": "execute_result"
    }
   ],
   "source": [
    "station = 'Sutphin Blvd - Archer Av - JFK AirportQueens - Archer'\n",
    "\n",
    "a19 = df18[df18.station_id.eq(station)].copy().reset_index(drop=True)\n",
    "a20 = df20[df20.station_id.eq(station)].copy().reset_index(drop=True)\n",
    "\n",
    "a19.columns = [c + '_19' for c in a19.columns]\n",
    "a20.columns = [c + '_20' for c in a20.columns]\n",
    "\n",
    "achg = pd.concat([a19, a20], axis=1)\n",
    "\n",
    "assert np.all(achg.timegroupnbr_20.eq(achg.timegroupnbr_20))\n",
    "assert np.any(achg.entries_diff_20.notna()) & np.any(achg.entries_diff_19.notna())\n",
    "\n",
    "achg['entries_share'] = achg.entries_diff_20 / achg.entries_diff_19\n",
    "\n",
    "agg = ['min', 'max', 'median', 'mean']\n",
    "xx = achg.groupby('timegroupnbr_19').agg({'entries_share':agg})\n",
    "\n",
    "xx.round(2)"
   ]
  },
  {
   "cell_type": "code",
   "execution_count": 27,
   "metadata": {},
   "outputs": [
    {
     "data": {
      "image/png": "[encoded data removed]",
      "text/plain": [
       "<Figure size 360x216 with 1 Axes>"
      ]
     },
     "metadata": {
      "needs_background": "light"
     },
     "output_type": "display_data"
    }
   ],
   "source": [
    "fig, ax = plt.subplots(figsize=(5,.5*len(xx)))\n",
    "\n",
    "colors = ['#1fabe3', '#ea1687', '#939291', 'k']\n",
    "\n",
    "for col, c, l in zip(xx, colors, agg):\n",
    "    x = xx[col].values\n",
    "    plt.scatter(x, xx.index, color=c, label=l)\n",
    "    \n",
    "decorate('', '')\n",
    "plt.title(f'Share of entries, 2018-2020, {station}', loc='left', fontsize=11)\n",
    "\n",
    "plt.grid(axis='x')\n",
    "plt.ylim(5.5, -0.5)\n",
    "plt.xlim(0, 1.5)\n",
    "plt.yticks(ticks=np.arange(6), labels=['12:00AM - 4:00AM', '4:00AM - 8:00AM', '8:00AM - 12:00PM',\n",
    "                   '12:00PM - 4:00PM', '4:00PM - 8:00PM', '8:00PM - 12:00AM'])\n",
    "\n",
    "plt.show();"
   ]
  },
  {
   "cell_type": "markdown",
   "metadata": {},
   "source": [
    "### jamaica center"
   ]
  },
  {
   "cell_type": "code",
   "execution_count": 28,
   "metadata": {},
   "outputs": [
    {
     "data": {
      "text/html": [
       "<div>\n",
       "<style scoped>\n",
       "    .dataframe tbody tr th:only-of-type {\n",
       "        vertical-align: middle;\n",
       "    }\n",
       "\n",
       "    .dataframe tbody tr th {\n",
       "        vertical-align: top;\n",
       "    }\n",
       "\n",
       "    .dataframe thead tr th {\n",
       "        text-align: left;\n",
       "    }\n",
       "\n",
       "    .dataframe thead tr:last-of-type th {\n",
       "        text-align: right;\n",
       "    }\n",
       "</style>\n",
       "<table border=\"1\" class=\"dataframe\">\n",
       "  <thead>\n",
       "    <tr>\n",
       "      <th></th>\n",
       "      <th colspan=\"4\" halign=\"left\">entries_share</th>\n",
       "    </tr>\n",
       "    <tr>\n",
       "      <th></th>\n",
       "      <th>min</th>\n",
       "      <th>max</th>\n",
       "      <th>median</th>\n",
       "      <th>mean</th>\n",
       "    </tr>\n",
       "    <tr>\n",
       "      <th>timegroupnbr_19</th>\n",
       "      <th></th>\n",
       "      <th></th>\n",
       "      <th></th>\n",
       "      <th></th>\n",
       "    </tr>\n",
       "  </thead>\n",
       "  <tbody>\n",
       "    <tr>\n",
       "      <th>0</th>\n",
       "      <td>0.05</td>\n",
       "      <td>0.12</td>\n",
       "      <td>0.10</td>\n",
       "      <td>0.09</td>\n",
       "    </tr>\n",
       "    <tr>\n",
       "      <th>1</th>\n",
       "      <td>0.50</td>\n",
       "      <td>1.20</td>\n",
       "      <td>1.04</td>\n",
       "      <td>0.95</td>\n",
       "    </tr>\n",
       "    <tr>\n",
       "      <th>2</th>\n",
       "      <td>0.39</td>\n",
       "      <td>0.70</td>\n",
       "      <td>0.56</td>\n",
       "      <td>0.56</td>\n",
       "    </tr>\n",
       "    <tr>\n",
       "      <th>3</th>\n",
       "      <td>0.38</td>\n",
       "      <td>0.70</td>\n",
       "      <td>0.63</td>\n",
       "      <td>0.58</td>\n",
       "    </tr>\n",
       "    <tr>\n",
       "      <th>4</th>\n",
       "      <td>0.33</td>\n",
       "      <td>0.85</td>\n",
       "      <td>0.63</td>\n",
       "      <td>0.61</td>\n",
       "    </tr>\n",
       "    <tr>\n",
       "      <th>5</th>\n",
       "      <td>0.32</td>\n",
       "      <td>0.43</td>\n",
       "      <td>0.37</td>\n",
       "      <td>0.37</td>\n",
       "    </tr>\n",
       "  </tbody>\n",
       "</table>\n",
       "</div>"
      ],
      "text/plain": [
       "                entries_share                   \n",
       "                          min   max median  mean\n",
       "timegroupnbr_19                                 \n",
       "0                        0.05  0.12   0.10  0.09\n",
       "1                        0.50  1.20   1.04  0.95\n",
       "2                        0.39  0.70   0.56  0.56\n",
       "3                        0.38  0.70   0.63  0.58\n",
       "4                        0.33  0.85   0.63  0.61\n",
       "5                        0.32  0.43   0.37  0.37"
      ]
     },
     "execution_count": 28,
     "metadata": {},
     "output_type": "execute_result"
    }
   ],
   "source": [
    "station = 'Jamaica Center - Parsons/ArcherQueens - Archer'\n",
    "\n",
    "a19 = df18[df18.station_id.eq(station)].copy().reset_index(drop=True)\n",
    "a20 = df20[df20.station_id.eq(station)].copy().reset_index(drop=True)\n",
    "\n",
    "a19.columns = [c + '_19' for c in a19.columns]\n",
    "a20.columns = [c + '_20' for c in a20.columns]\n",
    "\n",
    "achg = pd.concat([a19, a20], axis=1)\n",
    "\n",
    "assert np.all(achg.timegroupnbr_20.eq(achg.timegroupnbr_20))\n",
    "assert np.any(achg.entries_diff_20.notna()) & np.any(achg.entries_diff_19.notna())\n",
    "\n",
    "achg['entries_share'] = achg.entries_diff_20 / achg.entries_diff_19\n",
    "\n",
    "agg = ['min', 'max', 'median', 'mean']\n",
    "xx = achg.groupby('timegroupnbr_19').agg({'entries_share':agg})\n",
    "\n",
    "xx.round(2)"
   ]
  },
  {
   "cell_type": "code",
   "execution_count": 29,
   "metadata": {},
   "outputs": [
    {
     "data": {
      "image/png": "[encoded data removed]",
      "text/plain": [
       "<Figure size 432x288 with 1 Axes>"
      ]
     },
     "metadata": {
      "needs_background": "light"
     },
     "output_type": "display_data"
    }
   ],
   "source": [
    "# fig, ax = plt.subplots(figsize=(5,.5*len(xx)))\n",
    "\n",
    "colors = ['#1fabe3', '#ea1687', '#939291', 'k']\n",
    "\n",
    "for col, c, l in zip(xx, colors, agg):\n",
    "    x = xx[col].values\n",
    "    plt.scatter(x, xx.index, color=c, label=l)\n",
    "    \n",
    "decorate('', '')\n",
    "plt.title(f'Share of entries, 2018-2020, {station}', loc='left', fontsize=11)\n",
    "\n",
    "plt.grid(axis='x')\n",
    "plt.ylim(5.5, -0.5)\n",
    "plt.xlim(0, 1.5)\n",
    "plt.yticks(ticks=np.arange(6), labels=['12:00AM - 4:00AM', '4:00AM - 8:00AM', '8:00AM - 12:00PM',\n",
    "                   '12:00PM - 4:00PM', '4:00PM - 8:00PM', '8:00PM - 12:00AM'])\n",
    "\n",
    "plt.show();"
   ]
  },
  {
   "cell_type": "markdown",
   "metadata": {},
   "source": [
    "## takeaways\n",
    "\n",
    "*NOTE: The previous analysis compared 2019 to 2020 data. Here, we compare 2018 to 2020 data. Overall subway ridership in 2018 was slightly higher than in 2019. The numbers below may reflect this discrepancy in data sources.*\n",
    "\n",
    "The data suggest three major takeaways:\n",
    "1. Overall ridership across the three stations is way down, at **about 58% of 2018's ridership.** Compare to 56% a month ago.\n",
    "    1. 36% at Jamaica Center. Compare to 31% a month ago.\n",
    "    2. 72% at Sutphin Blvd / Queens Blvd. Compare to 72% a month ago.\n",
    "    3. 65% at Sutphin Blvd / Archer Ave. Compare to 68% a month ago.\n",
    "    \n",
    "    \n",
    "2. In the two week period of study in 2020, the **overall trend in ridership is flat at all three stations** with no signs of a recent increase. Same as a month ago.\n",
    "\n",
    "\n",
    "3. While overall ridership is down, **ridership during the early morning peak (4AM - 8AM) has decreased less, about 49% on average compared to an overall decline of 58%.** One hypothesis for this is that ridership among essential workers (who might need to get up early) is slightly more robust.\n",
    "    1. However, compared to last month, this number has gone up about eight percentage points. More essential workers may be out of work.\n",
    "    2. At all three stops the number of riders during the morning peak has decreased compared to 2018."
   ]
  }
 ],
 "metadata": {
  "kernelspec": {
   "display_name": "Python 3",
   "language": "python",
   "name": "python3"
  },
  "language_info": {
   "codemirror_mode": {
    "name": "ipython",
    "version": 3
   },
   "file_extension": ".py",
   "mimetype": "text/x-python",
   "name": "python",
   "nbconvert_exporter": "python",
   "pygments_lexer": "ipython3",
   "version": "3.7.7"
  },
  "toc": {
   "base_numbering": 1,
   "nav_menu": {},
   "number_sections": true,
   "sideBar": true,
   "skip_h1_title": true,
   "title_cell": "Table of Contents",
   "title_sidebar": "nav",
   "toc_cell": false,
   "toc_position": {
    "height": "calc(100% - 180px)",
    "left": "10px",
    "top": "150px",
    "width": "331px"
   },
   "toc_section_display": true,
   "toc_window_display": true
  },
  "varInspector": {
   "cols": {
    "lenName": 16,
    "lenType": 16,
    "lenVar": 40
   },
   "kernels_config": {
    "python": {
     "delete_cmd_postfix": "",
     "delete_cmd_prefix": "del ",
     "library": "var_list.py",
     "varRefreshCmd": "print(var_dic_list())"
    },
    "r": {
     "delete_cmd_postfix": ") ",
     "delete_cmd_prefix": "rm(",
     "library": "var_list.r",
     "varRefreshCmd": "cat(var_dic_list()) "
    }
   },
   "types_to_exclude": [
    "module",
    "function",
    "builtin_function_or_method",
    "instance",
    "_Feature"
   ],
   "window_display": false
  }
 },
 "nbformat": 4,
 "nbformat_minor": 2
}
